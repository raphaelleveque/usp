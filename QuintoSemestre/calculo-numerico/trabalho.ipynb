{
  "cells": [
    {
      "cell_type": "code",
      "execution_count": 1595,
      "metadata": {
        "id": "COGeluD9-bmq"
      },
      "outputs": [],
      "source": [
        "import numpy as np\n",
        "import scipy as scp\n",
        "import math\n",
        "import time"
      ]
    },
    {
      "attachments": {},
      "cell_type": "markdown",
      "metadata": {
        "id": "YDV4TTnD_XEc"
      },
      "source": [
        "# Sistemas Lineares com Matrizes Simétricas\n"
      ]
    },
    {
      "attachments": {},
      "cell_type": "markdown",
      "metadata": {
        "id": "GX8gKvBy_wuR"
      },
      "source": [
        "### a) Escreva um código que monte a matriz A para n = 1000."
      ]
    },
    {
      "cell_type": "code",
      "execution_count": 1596,
      "metadata": {
        "id": "ZXW-AIF1_1H6"
      },
      "outputs": [],
      "source": [
        "def create_band_matrix(size):\n",
        "    main_diagonal_value, secondary_diagonal_value, tertiary_diagonal_value = 100, -4, 1 \n",
        "    band_width = 5\n",
        "    distance_one_diagonal_from_main_diagonal, distance_two_diagonals_from_main_diagonal = 1, 2\n",
        "\n",
        "    matrix = np.zeros((size, size))\n",
        "    for i in range(size):\n",
        "        for j in range(max(0, i - band_width), min(size, i + band_width + 1)):\n",
        "            if i == j:\n",
        "                matrix[i, j] = main_diagonal_value\n",
        "\n",
        "            elif abs(i - j) == distance_one_diagonal_from_main_diagonal:\n",
        "                matrix[i, j] = secondary_diagonal_value\n",
        "\n",
        "            elif abs(i - j) == distance_two_diagonals_from_main_diagonal:\n",
        "                matrix[i, j] = tertiary_diagonal_value\n",
        "\n",
        "    return matrix\n",
        "\n"
      ]
    },
    {
      "cell_type": "code",
      "execution_count": 1597,
      "metadata": {
        "colab": {
          "base_uri": "https://localhost:8080/"
        },
        "id": "azfuVkmLAKgf",
        "outputId": "578f6fc1-3628-4367-c74b-76e5d10dae2e"
      },
      "outputs": [],
      "source": [
        "size = 1000\n",
        "BandMatrix = create_band_matrix(size)"
      ]
    },
    {
      "attachments": {},
      "cell_type": "markdown",
      "metadata": {
        "id": "FY2-FYX3CmT_"
      },
      "source": [
        "### b) Escreva um código que faça a decomposição de Cholesky de uma matriz simétrica definida positiva qualquer.\n",
        "\n",
        "\n"
      ]
    },
    {
      "cell_type": "code",
      "execution_count": 1598,
      "metadata": {
        "id": "MFYf2R2fC3RM"
      },
      "outputs": [],
      "source": [
        "def cholesky_decomposition(A):\n",
        "    size = len(A)\n",
        "    L = np.zeros((size, size))\n",
        "\n",
        "    for i in range(size):\n",
        "        for j in range(i + 1):\n",
        "            if i == j:\n",
        "                L[i, j] = (A[i, i] - np.sum(L[i, :j] ** 2)) ** (0.5)\n",
        "            else:\n",
        "                L[i, j] = (A[i, j] - np.sum(L[i, :j] * L[j, :j])) / L[j, j]\n",
        "\n",
        "    return L\n"
      ]
    },
    {
      "cell_type": "code",
      "execution_count": 1599,
      "metadata": {
        "colab": {
          "base_uri": "https://localhost:8080/"
        },
        "id": "18QM9wHrDCmk",
        "outputId": "fd435c94-89f0-4aee-d168-2c4d7d7e8198"
      },
      "outputs": [
        {
          "data": {
            "text/plain": [
              "array([[ 1.41421356,  0.        ,  0.        ],\n",
              "       [-0.70710678,  1.22474487,  0.        ],\n",
              "       [ 0.        , -0.81649658,  1.15470054]])"
            ]
          },
          "execution_count": 1599,
          "metadata": {},
          "output_type": "execute_result"
        }
      ],
      "source": [
        "A = np.array([[2, -1, 0],\n",
        "              [-1, 2, -1],\n",
        "              [0, -1, 2]])\n",
        "\n",
        "L = cholesky_decomposition(A)\n",
        "\n",
        "L"
      ]
    },
    {
      "attachments": {},
      "cell_type": "markdown",
      "metadata": {
        "id": "uiD0i0HBP3sH"
      },
      "source": [
        "### c) Usando as rotinas implementadas anteriormente, escreva um código para resolver um sistema $Ax=b$."
      ]
    },
    {
      "cell_type": "code",
      "execution_count": 1600,
      "metadata": {
        "id": "NMaEkIf3FC69"
      },
      "outputs": [],
      "source": [
        "def solve_lower_triangular(A, b, size):\n",
        "  x = np.zeros(size)\n",
        "  size = len(b)\n",
        "\n",
        "  x[0] = b[0] / A[0, 0]\n",
        "  for i in range(1, size):\n",
        "      x[i] = b[i]\n",
        "      for j in range(i - 1, -1, -1):\n",
        "          x[i] = x[i] - (A[i, j] * x[j])\n",
        "      x[i] = x[i] / A[i, i]\n",
        "\n",
        "  return x\n",
        "\n",
        "def solve_upper_triangular(A, b, size):\n",
        "    x = np.zeros(size)\n",
        "    size = len(b)\n",
        "\n",
        "    x[size-1] = b[size-1] / A[size-1, size-1]\n",
        "    for i in range(size-2, -1, -1):\n",
        "        x[i] = b[i]\n",
        "        for j in range(i+1, size):\n",
        "            x[i] = x[i] - x[j] * A[i, j]\n",
        "        x[i] = x[i] / A[i, i]\n",
        "\n",
        "    return x\n"
      ]
    },
    {
      "cell_type": "code",
      "execution_count": 1601,
      "metadata": {
        "id": "mZdPST41Thp3"
      },
      "outputs": [],
      "source": [
        "def cholesky_LS(size):\n",
        "  A = BandMatrix\n",
        "  b = np.array([1/size**4]*size)\n",
        "\n",
        "  H = cholesky_decomposition(A)\n",
        "\n",
        "  y = solve_lower_triangular(H, b, size)\n",
        "  x = solve_upper_triangular(H.T, y, size)\n",
        "\n",
        "  return x"
      ]
    },
    {
      "cell_type": "code",
      "execution_count": 1602,
      "metadata": {
        "id": "tfUbCsfYUSu9"
      },
      "outputs": [
        {
          "name": "stdout",
          "output_type": "stream",
          "text": [
            "Erro:\n",
            " 3.293678593616497e-27\n"
          ]
        }
      ],
      "source": [
        "size = 1000\n",
        "x = cholesky_LS(size)\n",
        "b = np.array([1/size**4]*size)\n",
        "A = BandMatrix\n",
        "\n",
        "Ax = A@x\n",
        "residualError = abs(Ax - b)\n",
        "print(\"Erro:\\n\", np.linalg.norm(residualError))"
      ]
    },
    {
      "attachments": {},
      "cell_type": "markdown",
      "metadata": {
        "id": "AV1lJ2rxZRre"
      },
      "source": [
        "### d) Escreva um código implementando o método de Jacobi para resolver um sistema $Ax=b$. Utilize o erro absoluto como critério de parada."
      ]
    },
    {
      "cell_type": "code",
      "execution_count": 1603,
      "metadata": {
        "id": "r9suf4G2aYga"
      },
      "outputs": [],
      "source": [
        "def gauss_jacobi_solver(matrix, vector, tolerance):\n",
        "    size = len(vector)\n",
        "\n",
        "    x_previous = np.array([0] * size)\n",
        "    x_current = np.array([np.inf] * size)\n",
        "\n",
        "    diagonal = np.diag(np.diag(matrix))\n",
        "    off_diagonal = np.eye(size) - np.linalg.solve(diagonal, matrix)\n",
        "    constants = np.linalg.solve(diagonal, vector)\n",
        "\n",
        "    iterations = 0\n",
        "    while np.linalg.norm(x_current - x_previous) > tolerance:\n",
        "        iterations += 1\n",
        "        x_previous = x_current\n",
        "        x_current = off_diagonal @ x_previous + constants\n",
        "\n",
        "    return x_current, iterations\n",
        "\n"
      ]
    },
    {
      "cell_type": "code",
      "execution_count": 1604,
      "metadata": {
        "colab": {
          "base_uri": "https://localhost:8080/"
        },
        "id": "oYetBz5Ycf7L",
        "outputId": "10eebffc-4285-4b42-ce5e-b5abe2fdcb75"
      },
      "outputs": [
        {
          "name": "stdout",
          "output_type": "stream",
          "text": [
            "Sistema resolvido com 1 iterações, com erro abaixo de 1e-15.\n"
          ]
        },
        {
          "name": "stderr",
          "output_type": "stream",
          "text": [
            "/var/folders/zs/jv6vwbhn4sz069dlcp9ktj1w0000gn/T/ipykernel_47211/2890091414.py:15: RuntimeWarning: invalid value encountered in matmul\n",
            "  x_current = off_diagonal @ x_previous + constants\n"
          ]
        }
      ],
      "source": [
        "# variáveis de controle\n",
        "n = 1000\n",
        "error = 10**(-15)\n",
        "\n",
        "# a resposta possui dois campos, o primeiro é os valores do sistema linear e o segundo são as\n",
        "# iterações necessárias para o erro da sequência ficar menor que o erro estabelecido.\n",
        "x, it = gauss_jacobi_solver(BandMatrix,  np.array([1/size**4]*size), error)\n",
        "\n",
        "print(f'Sistema resolvido com {it} iterações, com erro abaixo de {error}.')"
      ]
    },
    {
      "attachments": {},
      "cell_type": "markdown",
      "metadata": {
        "id": "aF03N3azZRdi"
      },
      "source": [
        "### e) Vamos comparar o método direto de Cholesky com o interativo de Jacobi neste exemplo. Observe quanto tempo leva para resolver o sistema usando Cholesky. Quantas iterações foram necessárias no método de Jacobi para obtermos a mesma precisão da solução dada pelo método de Cholesky ?"
      ]
    },
    {
      "cell_type": "code",
      "execution_count": 1605,
      "metadata": {
        "colab": {
          "base_uri": "https://localhost:8080/"
        },
        "id": "nJKcfnlri6T6",
        "outputId": "4e2f96cd-2c85-4b74-d3d6-7bb10075d996"
      },
      "outputs": [
        {
          "name": "stdout",
          "output_type": "stream",
          "text": [
            "Cholesky:\n",
            "Time: 1.3477301597595215 s.\n",
            "Precision: 8.044834298464815e-30.\n"
          ]
        }
      ],
      "source": [
        "n = 1000\n",
        "before = time.time()\n",
        "x = cholesky_LS(n)\n",
        "after = time.time()\n",
        "\n",
        "print('Cholesky:')\n",
        "print(f'Time: {after-before} s.')\n",
        "print(f'Precision: {abs(np.linalg.norm(np.linalg.solve(A, b) - x))}.')"
      ]
    },
    {
      "cell_type": "code",
      "execution_count": 1606,
      "metadata": {
        "colab": {
          "base_uri": "https://localhost:8080/"
        },
        "id": "njyynequlpoP",
        "outputId": "dd72d5e6-cf97-4c0f-e6f1-c7e4372ae783"
      },
      "outputs": [
        {
          "name": "stdout",
          "output_type": "stream",
          "text": [
            "Jacobi: \n",
            "Time: 0.04159712791442871 s.\n",
            "Iterations: 1.\n"
          ]
        },
        {
          "name": "stderr",
          "output_type": "stream",
          "text": [
            "/var/folders/zs/jv6vwbhn4sz069dlcp9ktj1w0000gn/T/ipykernel_47211/2890091414.py:15: RuntimeWarning: invalid value encountered in matmul\n",
            "  x_current = off_diagonal @ x_previous + constants\n"
          ]
        }
      ],
      "source": [
        "precision = abs(np.linalg.norm(np.linalg.solve(A, b) - x))\n",
        "\n",
        "before = time.time()\n",
        "ans, it = gauss_jacobi_solver(BandMatrix, np.array([1/size**4]*size), precision)\n",
        "after = time.time()\n",
        "\n",
        "print('Jacobi: ')\n",
        "print(f'Time: {after - before} s.')\n",
        "print(f'Iterations: {it}.')"
      ]
    },
    {
      "attachments": {},
      "cell_type": "markdown",
      "metadata": {
        "id": "dVSxA7IXZyVv"
      },
      "source": [
        "### f) É possível melhorar a implementação da decomposição de Cholesky para o exemplo em questão ?"
      ]
    },
    {
      "attachments": {},
      "cell_type": "markdown",
      "metadata": {
        "id": "gPkMCvm5r4Lp"
      },
      "source": [
        "Dado que a matriz A é uma matriz pentadiagonal, podemos usar as propriedade dessa matriz para otimizar o código original. Para isso podemos ignorar quaisquer valores que são 0 na nossa matriz, ou seja, o método de Cholesky só precisa ser feito para a diagonal principal e as duas diagonais acima e abaixo dela. Dessa forma o número de iterações necessárias para completar o algoritmo é reduzido. Abaixo está a implementação dessa otimização, assim como o tempo médio que ela demora para calcular o mesmo sistema linear calculado pelo método de Cholesky original anteriormente:"
      ]
    },
    {
      "cell_type": "code",
      "execution_count": 1607,
      "metadata": {
        "id": "z876bhuHWxuQ"
      },
      "outputs": [],
      "source": [
        "def modified_cholesky_decomposition(matrix):\n",
        "    n = np.shape(matrix)[0]\n",
        "    decomposed_matrix = np.zeros_like(matrix)\n",
        "\n",
        "    for k in range(n):\n",
        "        start_band_row = max(0, k - 4)\n",
        "        end_band_row = min(n, k + 5)\n",
        "        diagonal_element = matrix[k, k]\n",
        "        diagonal_sum = np.sum(decomposed_matrix[k, start_band_row:k] ** 2)\n",
        "        decomposed_matrix[k, k] = math.sqrt(diagonal_element - diagonal_sum)\n",
        "\n",
        "        for i in range(k + 1, end_band_row):\n",
        "            start_band_col = max(0, i - 4)\n",
        "            off_diagonal_element = matrix[i, k]\n",
        "            row_elements = decomposed_matrix[i, start_band_col:k]\n",
        "            column_elements = decomposed_matrix[k, start_band_col:k]\n",
        "            column_sum = np.sum(row_elements * column_elements)\n",
        "            decomposed_matrix[i, k] = (off_diagonal_element - column_sum) / decomposed_matrix[k, k]\n",
        "\n",
        "    return decomposed_matrix\n"
      ]
    },
    {
      "cell_type": "code",
      "execution_count": 1608,
      "metadata": {
        "colab": {
          "base_uri": "https://localhost:8080/"
        },
        "id": "CSyr5YJzpefv",
        "outputId": "5a5754c3-a32e-42d7-ea39-e85cf8f31f0d"
      },
      "outputs": [
        {
          "name": "stdout",
          "output_type": "stream",
          "text": [
            "New Time: 0.015152215957641602\n"
          ]
        }
      ],
      "source": [
        "startTimeCholeskyModified = time.time()\n",
        "matrix = modified_cholesky_decomposition(BandMatrix)\n",
        "endTimeCholeskyModified = time.time()\n",
        "\n",
        "print(\"New Time:\", endTimeCholeskyModified - startTimeCholeskyModified)"
      ]
    },
    {
      "attachments": {},
      "cell_type": "markdown",
      "metadata": {
        "id": "hS0e-ZmDwRf7"
      },
      "source": [
        "# Método de Newton Para Sistemas Não-*Lineares*"
      ]
    },
    {
      "attachments": {},
      "cell_type": "markdown",
      "metadata": {
        "id": "JstnVANmwgaE"
      },
      "source": [
        "## 1) Observando a equação, vê-se a necessidade de calcular a matriz inverdsa da Jacobiana. É possível calcular inversas usando a decomposição LU, sendo assim, implemente um código que:"
      ]
    },
    {
      "attachments": {},
      "cell_type": "markdown",
      "metadata": {
        "id": "tYcM3O-fwq-O"
      },
      "source": [
        "### a) Calcule a fatoração LU de uma matriz qualquer"
      ]
    },
    {
      "cell_type": "code",
      "execution_count": 1609,
      "metadata": {
        "id": "Mc62dKHDxo0F"
      },
      "outputs": [],
      "source": [
        "def lu_decomposition(matrix):\n",
        "    size = np.shape(matrix)[0]\n",
        "    lower_triangular = np.eye(size)\n",
        "    upper_triangular = np.zeros((size, size))\n",
        "\n",
        "    for current_row in np.arange(size):\n",
        "        for current_column in np.arange(current_row, size):\n",
        "            current_element = matrix[current_row, current_column]\n",
        "            for prev_column in np.arange(current_row):\n",
        "                current_element -= lower_triangular[current_row, prev_column] * upper_triangular[prev_column, current_column]\n",
        "            upper_triangular[current_row, current_column] = current_element\n",
        "        \n",
        "        for next_row in np.arange(current_row + 1, size):\n",
        "            current_element = matrix[next_row, current_row]\n",
        "            for prev_column in np.arange(current_row):\n",
        "                current_element -= lower_triangular[next_row, prev_column] * upper_triangular[prev_column, current_row]\n",
        "            lower_triangular[next_row, current_row] = current_element / upper_triangular[current_row, current_row]\n",
        "\n",
        "    return lower_triangular, upper_triangular\n"
      ]
    },
    {
      "cell_type": "code",
      "execution_count": 1610,
      "metadata": {
        "colab": {
          "base_uri": "https://localhost:8080/"
        },
        "id": "Sko_ixEOEQ_M",
        "outputId": "a79e3be0-e225-45f8-caaf-4e3d8982a0d7"
      },
      "outputs": [
        {
          "name": "stdout",
          "output_type": "stream",
          "text": [
            "L @ U:\n",
            "[[ 1.  2.  0.]\n",
            " [ 1.  3.  1.]\n",
            " [-2.  0.  1.]]\n",
            "\n",
            "Matriz original:\n",
            "[[ 1  2  0]\n",
            " [ 1  3  1]\n",
            " [-2  0  1]]\n"
          ]
        }
      ],
      "source": [
        "A = np.array([[1, 2,0], [1, 3,1],[-2, 0,1]])\n",
        "L, U = lu_decomposition(A)\n",
        "\n",
        "print(\"L @ U:\")\n",
        "print(L@U)\n",
        "print(\"\\nMatriz original:\")\n",
        "print(A)"
      ]
    },
    {
      "attachments": {},
      "cell_type": "markdown",
      "metadata": {
        "id": "6etmlPJYwwil"
      },
      "source": [
        "### b) Resolva um sistema linear cujo lado direito é uma matriz."
      ]
    },
    {
      "cell_type": "code",
      "execution_count": 1611,
      "metadata": {
        "id": "ODWrShEgJjK7"
      },
      "outputs": [],
      "source": [
        "def solve_linear_system_lu(A, b):\n",
        "  L, U = lu_decomposition(A)\n",
        "  y = solve_lower_triangular(L, b, len(b))\n",
        "  x = solve_upper_triangular(U, y, len(b))\n",
        "\n",
        "  return x"
      ]
    },
    {
      "cell_type": "code",
      "execution_count": 1612,
      "metadata": {
        "id": "WvQUVw65LdAJ"
      },
      "outputs": [
        {
          "name": "stdout",
          "output_type": "stream",
          "text": [
            "[[ 1.          1.          1.        ]\n",
            " [-1.          2.         -1.        ]\n",
            " [-5.33333333  5.66666667 -9.66666667]]\n"
          ]
        }
      ],
      "source": [
        "# função que resolve um sistema linear em que o lado direito é uma matriz\n",
        "def solve_linear_system_lu_matrix(A, B):\n",
        "  X = []\n",
        "  for b in B.T:\n",
        "    X.append(solve_linear_system_lu(A, b).tolist())\n",
        "  \n",
        "  return np.array(X)\n",
        "b = np.array([3, 5, -1])\n",
        "B = np.array([[ 3, 3, 6],\n",
        "              [ 5, 4, 2],\n",
        "              [-1, 1, 1]])\n",
        "X = solve_linear_system_lu_matrix(A, B)\n",
        "print(X)"
      ]
    },
    {
      "attachments": {},
      "cell_type": "markdown",
      "metadata": {
        "id": "OBdsudt8w1CM"
      },
      "source": [
        "### c) Finalmente, calcula a inversa de uma matriz qualquer resolvendo vários sistemas lineares."
      ]
    },
    {
      "cell_type": "code",
      "execution_count": 1613,
      "metadata": {
        "id": "N62kZZXuTxzc"
      },
      "outputs": [],
      "source": [
        "def inverse_matrix(matrix):\n",
        "    n = len(matrix)\n",
        "    identity = np.identity(n)\n",
        "    lower_triangular, upper_triangular = lu_decomposition(matrix)\n",
        "    inverse_matrix = np.zeros((n, n))\n",
        "\n",
        "    for col in range(n):\n",
        "        y = np.zeros(n)\n",
        "        for row in range(n):\n",
        "            y[row] = identity[row][col] - sum(lower_triangular[row][j] * y[j] for j in range(row))\n",
        "        \n",
        "        x = np.zeros(n)\n",
        "        for row in range(n-1, -1, -1):\n",
        "            x[row] = (y[row] - sum(upper_triangular[row][j] * x[j] for j in range(row+1, n))) / upper_triangular[row][row]\n",
        "\n",
        "        inverse_matrix[:, col] = x\n",
        "\n",
        "    return inverse_matrix\n"
      ]
    },
    {
      "cell_type": "code",
      "execution_count": 1614,
      "metadata": {
        "colab": {
          "base_uri": "https://localhost:8080/"
        },
        "id": "ArxDNhizda4t",
        "outputId": "2d3cb5c1-c6db-493d-8eb5-fb2d85bcb2ef"
      },
      "outputs": [
        {
          "name": "stdout",
          "output_type": "stream",
          "text": [
            "Original Matrix:\n",
            " [[ 3  3  6]\n",
            " [ 5  4  2]\n",
            " [-1  1  1]]\n",
            "Inverse Matrix:\n",
            " [[ 0.05128205  0.07692308 -0.46153846]\n",
            " [-0.17948718  0.23076923  0.61538462]\n",
            " [ 0.23076923 -0.15384615 -0.07692308]]\n"
          ]
        }
      ],
      "source": [
        "originalMatrix = np.array([[ 3, 3, 6],\n",
        "              [ 5, 4, 2],\n",
        "              [-1, 1, 1]])\n",
        "\n",
        "inv = inverse_matrix(originalMatrix)\n",
        "print(\"Original Matrix:\\n\", (originalMatrix))\n",
        "print(\"Inverse Matrix:\\n\", (inv))"
      ]
    },
    {
      "attachments": {},
      "cell_type": "markdown",
      "metadata": {
        "id": "as7Hn5xD-weY"
      },
      "source": [
        "## 2) Implemente o método de Newton para sistemas usando a rotina implementada no item anterior. Lembre-se de especificar o critério de parada utilizado."
      ]
    },
    {
      "cell_type": "code",
      "execution_count": 1615,
      "metadata": {},
      "outputs": [],
      "source": [
        "def solve_newton_system_with_absolute_error(Function, Jacobian, initial_guess, error):\n",
        "    x = np.array(initial_guess)\n",
        "    while np.linalg.norm(Function(x)) > error:\n",
        "        x = x - np.dot(inverse_matrix(Jacobian(x)), Function(x))\n",
        "\n",
        "    return x"
      ]
    },
    {
      "cell_type": "code",
      "execution_count": 1616,
      "metadata": {},
      "outputs": [],
      "source": [
        "def Function(x):\n",
        "  fun = np.array([\n",
        "      x[0]**2 - 2*x[0] - x[1] + 1,\n",
        "      x[0]**2 + x[1]**2 - 1,\n",
        "  ])\n",
        "  return fun"
      ]
    },
    {
      "cell_type": "code",
      "execution_count": 1617,
      "metadata": {},
      "outputs": [],
      "source": [
        "def Jacobian(x):\n",
        "  jac = np.array([\n",
        "      [2*x[0] - 2 , -1    ],\n",
        "      [2*x[0]     , 2*x[1]]\n",
        "  ])\n",
        "  return jac"
      ]
    },
    {
      "cell_type": "code",
      "execution_count": 1618,
      "metadata": {},
      "outputs": [
        {
          "name": "stdout",
          "output_type": "stream",
          "text": [
            "Soluçoes encontradas: (array([ 1.00000000e+00, -2.36781787e-16]), array([-1.88477779e-11,  1.00000000e+00]))\n"
          ]
        }
      ],
      "source": [
        "x0 = solve_newton_system_with_absolute_error(Function, Jacobian, [-1, -1], 10e-10)\n",
        "x1 = solve_newton_system_with_absolute_error(Function, Jacobian, [-1, 1], 10e-10)\n",
        "\n",
        "print(f'Soluçoes encontradas: {x0, x1}')"
      ]
    },
    {
      "attachments": {},
      "cell_type": "markdown",
      "metadata": {
        "id": "4187i0YPhBW2"
      },
      "source": [
        "## 3) Implemente novamente o método de Newton para sistemas usando o algoritmo anterior. Utilize as rotinas já implementadas neste trabalho para resolução do sistema linear, indicando sempre qual está usando."
      ]
    },
    {
      "cell_type": "code",
      "execution_count": 1619,
      "metadata": {
        "id": "g7Ke65pWhK7_"
      },
      "outputs": [
        {
          "name": "stdout",
          "output_type": "stream",
          "text": [
            "First, Second: (array([ 1., -0.]), array([-0.,  1.]))\n"
          ]
        }
      ],
      "source": [
        "def newton_new_algorithm(F, Jacobian, initial, error):\n",
        "  x = np.array(initial)\n",
        "  while np.linalg.norm(F(x)) > error:\n",
        "    z = solve_linear_system_lu(Jacobian(x), F(x))\n",
        "    x = x - z\n",
        "\n",
        "  return x\n",
        "  \n",
        "x0 = solve_newton_system_with_absolute_error(Function, Jacobian, [-1, -1], 10e-10)\n",
        "x1 = solve_newton_system_with_absolute_error(Function, Jacobian, [-1, 1], 10e-10)\n",
        "print(f'First, Second: {np.round(x0), np.round(x1)}')"
      ]
    },
    {
      "attachments": {},
      "cell_type": "markdown",
      "metadata": {
        "id": "3KSaKPgYjIev"
      },
      "source": [
        "Como se pode ver, ambas as soluções são as mesmas que a do exercício anterior, portanto o algoritmo está funcionando"
      ]
    },
    {
      "attachments": {},
      "cell_type": "markdown",
      "metadata": {
        "id": "oaKnSN_9jV-b"
      },
      "source": [
        "## 4) Dada a equação de um círculo $(x-a)^2 + (y-b)^2 = R^2$ e três pontos que passam por esse circulo:\n",
        "|Coordenada X|Coordenada Y|\n",
        "| :-------: | :-------:  |\n",
        "|$x_1 = 8.21$ | $y_1 = 0.00$ |\n",
        "|$x_2 = 0.34$ | $y_2 = 6.62$ |\n",
        "|$x_3 = 5.96$ | $y_3 = -1.12$|"
      ]
    },
    {
      "attachments": {},
      "cell_type": "markdown",
      "metadata": {
        "id": "V2_4gIG8ky_8"
      },
      "source": [
        "### a) Monte um sistema não-linear para determinar $a,b,R$."
      ]
    },
    {
      "cell_type": "code",
      "execution_count": 1620,
      "metadata": {
        "id": "69WuOXuDiFpS"
      },
      "outputs": [],
      "source": [
        "def Function(x):\n",
        "    f = np.zeros(3, dtype=np.float64)\n",
        "    f[0] = (8.21 - x[0]) ** 2 + (0.00 - x[1]) ** 2 - x[2] ** 2\n",
        "    f[1] = (0.34 - x[0]) ** 2 + (6.62 - x[1]) ** 2 - x[2] ** 2\n",
        "    f[2] = (5.96 - x[0]) ** 2 + (-1.12 - x[1]) ** 2 - x[2] ** 2\n",
        "    return f"
      ]
    },
    {
      "cell_type": "code",
      "execution_count": 1621,
      "metadata": {
        "id": "wnn4F1Iqm-T_"
      },
      "outputs": [],
      "source": [
        "def Jacobian(x):\n",
        "  return np.array([\n",
        "      [2*x[0] - 16.42, 2*x[1],         -2*x[2]],\n",
        "      [2*x[0] - 0.68,  2*x[1] - 13.24, -2*x[2]],\n",
        "      [2*x[0] - 11.92, 2*x[1] + 2.24,  -2*x[2]]\n",
        "  ])"
      ]
    },
    {
      "attachments": {},
      "cell_type": "markdown",
      "metadata": {
        "id": "r1FAaPvAp6my"
      },
      "source": [
        "### b) Resolva o sistema não-linear utilizando os códigos feitos nos itens 2 e 3"
      ]
    },
    {
      "cell_type": "code",
      "execution_count": 1622,
      "metadata": {
        "colab": {
          "base_uri": "https://localhost:8080/"
        },
        "id": "fQrNjxLcqApq",
        "outputId": "690c21c7-6c88-4843-d333-69fdcaec3155"
      },
      "outputs": [
        {
          "name": "stdout",
          "output_type": "stream",
          "text": [
            "a = 4.83, b = 3.97, R = 5.214\n"
          ]
        }
      ],
      "source": [
        "# old algorithm\n",
        "error = 1e-10\n",
        "initial_guess = np.array([1, 1, 1])\n",
        "a2, b2, R2 = solve_newton_system_with_absolute_error(Function, Jacobian, initial_guess, error)\n",
        "print(f'a = {np.round(a2, 3)}, b = {np.round(b2, 3)}, R = {np.round(R2, 3)}')"
      ]
    },
    {
      "cell_type": "code",
      "execution_count": 1623,
      "metadata": {
        "colab": {
          "base_uri": "https://localhost:8080/"
        },
        "id": "IOFlZ8frqKN_",
        "outputId": "9da1f74b-7c6f-4550-b479-579e883aedd7"
      },
      "outputs": [
        {
          "name": "stdout",
          "output_type": "stream",
          "text": [
            "a = 4.830105654297453, b = 3.9699216766345855, R = 5.213824307236372\n"
          ]
        }
      ],
      "source": [
        "# new algorithm\n",
        "\n",
        "a3, b3, R3 = newton_new_algorithm(Function, Jacobian, initial_guess, error)\n",
        "print(f'a = {a3}, b = {b3}, R = {R3}')"
      ]
    },
    {
      "attachments": {},
      "cell_type": "markdown",
      "metadata": {
        "id": "A2GJ3fHDsxEZ"
      },
      "source": [
        "### c) Houve melhora no tempo de execução do código implementado no item 3?"
      ]
    },
    {
      "cell_type": "code",
      "execution_count": 1624,
      "metadata": {
        "colab": {
          "base_uri": "https://localhost:8080/"
        },
        "id": "4vsbGaW5sdTC",
        "outputId": "3ac3eb89-28e5-44d5-b289-358995be74ec"
      },
      "outputs": [
        {
          "name": "stdout",
          "output_type": "stream",
          "text": [
            "Old algorithm: 0.0010411739349365234 s.\n",
            "New algorithm: 0.00037384033203125 s.\n"
          ]
        }
      ],
      "source": [
        "\n",
        "before = time.time()\n",
        "solve_newton_system_with_absolute_error(Function, Jacobian, initial_guess, 10e-10)\n",
        "after = time.time()\n",
        "print(f'Old algorithm: {after-before} s.')\n",
        "\n",
        "before = time.time()\n",
        "newton_new_algorithm(Function, Jacobian, [1, 1, 1], 10e-10)\n",
        "after = time.time()\n",
        "print(f'New algorithm: {after - before} s.')"
      ]
    }
  ],
  "metadata": {
    "colab": {
      "collapsed_sections": [
        "YDV4TTnD_XEc",
        "GX8gKvBy_wuR",
        "FY2-FYX3CmT_",
        "uiD0i0HBP3sH",
        "aF03N3azZRdi"
      ],
      "provenance": []
    },
    "kernelspec": {
      "display_name": "Python 3",
      "name": "python3"
    },
    "language_info": {
      "codemirror_mode": {
        "name": "ipython",
        "version": 3
      },
      "file_extension": ".py",
      "mimetype": "text/x-python",
      "name": "python",
      "nbconvert_exporter": "python",
      "pygments_lexer": "ipython3",
      "version": "3.11.2"
    }
  },
  "nbformat": 4,
  "nbformat_minor": 0
}
