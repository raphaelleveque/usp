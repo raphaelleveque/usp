{
 "cells": [
  {
   "cell_type": "code",
   "execution_count": 17,
   "metadata": {},
   "outputs": [],
   "source": [
    "from numpy  import *\n",
    "import numpy as np\n",
    "import matplotlib.pyplot as plt\n",
    "import networkx as nx\n",
    "from scipy.stats import pearsonr\n",
    "import math"
   ]
  },
  {
   "cell_type": "markdown",
   "metadata": {},
   "source": [
    "# Hamsterster"
   ]
  },
  {
   "cell_type": "code",
   "execution_count": 2,
   "metadata": {},
   "outputs": [],
   "source": [
    "# If the data file has only two columns, use this:\n",
    "G= G=nx.read_edgelist(\"data/hamsterster.txt\", nodetype=int)"
   ]
  },
  {
   "cell_type": "code",
   "execution_count": 3,
   "metadata": {},
   "outputs": [
    {
     "name": "stdout",
     "output_type": "stream",
     "text": [
      "Number of nodes: 1788\n",
      "Number of edges: 12476\n"
     ]
    }
   ],
   "source": [
    "G = G.to_undirected()\n",
    "G.remove_edges_from(nx.selfloop_edges(G))\n",
    "Gcc = sorted(nx.connected_components(G), key=len, reverse=True)\n",
    "G = G.subgraph(Gcc[0])\n",
    "G = nx.convert_node_labels_to_integers(G, first_label=0)\n",
    "N = len(G)\n",
    "M = G.number_of_edges()\n",
    "print('Number of nodes:', N)\n",
    "print('Number of edges:', M)"
   ]
  },
  {
   "cell_type": "code",
   "execution_count": 4,
   "metadata": {},
   "outputs": [
    {
     "name": "stdout",
     "output_type": "stream",
     "text": [
      "Average shortest path length: 3.4526\n",
      "Network diameter: 14\n"
     ]
    }
   ],
   "source": [
    "if nx.is_connected(G) == True:\n",
    "    l = nx.average_shortest_path_length(G)\n",
    "    print(\"Average shortest path length:\", \"%3.4f\"%l)\n",
    "else:\n",
    "    print(\"The graph has more than one connected component\")\n",
    "\n",
    "d = nx.diameter(G)\n",
    "print('Network diameter:', d)"
   ]
  },
  {
   "cell_type": "markdown",
   "metadata": {},
   "source": [
    "# USairport500"
   ]
  },
  {
   "cell_type": "code",
   "execution_count": 5,
   "metadata": {},
   "outputs": [],
   "source": [
    "# If the data file has only two columns, use this:\n",
    "G= G=nx.read_edgelist(\"data/USairport500.txt\", nodetype=int)"
   ]
  },
  {
   "cell_type": "code",
   "execution_count": 6,
   "metadata": {},
   "outputs": [
    {
     "name": "stdout",
     "output_type": "stream",
     "text": [
      "Number of nodes: 500\n",
      "Number of edges: 2980\n"
     ]
    }
   ],
   "source": [
    "# If the data file has only two columns, use this:\n",
    "G= G=nx.read_edgelist(\"data/USairport500.txt\", nodetype=int)\n",
    "G = G.to_undirected()\n",
    "G.remove_edges_from(nx.selfloop_edges(G))\n",
    "Gcc = sorted(nx.connected_components(G), key=len, reverse=True)\n",
    "G = G.subgraph(Gcc[0])\n",
    "G = nx.convert_node_labels_to_integers(G, first_label=0)\n",
    "N = len(G)\n",
    "M = G.number_of_edges()\n",
    "print('Number of nodes:', N)\n",
    "print('Number of edges:', M)"
   ]
  },
  {
   "cell_type": "code",
   "execution_count": 7,
   "metadata": {},
   "outputs": [
    {
     "name": "stdout",
     "output_type": "stream",
     "text": [
      "Average shortest path length: 2.9910\n",
      "Network diameter: 7\n"
     ]
    }
   ],
   "source": [
    "if nx.is_connected(G) == True:\n",
    "    l = nx.average_shortest_path_length(G)\n",
    "    print(\"Average shortest path length:\", \"%3.4f\"%l)\n",
    "else:\n",
    "    print(\"The graph has more than one connected component\")\n",
    "\n",
    "d = nx.diameter(G)\n",
    "print('Network diameter:', d)"
   ]
  },
  {
   "cell_type": "code",
   "execution_count": 8,
   "metadata": {},
   "outputs": [
    {
     "name": "stdout",
     "output_type": "stream",
     "text": [
      "Network efficiency 0.3713796736325798\n",
      "The average local efficiency of the network: 0.6866344366650847\n"
     ]
    }
   ],
   "source": [
    "E = nx.global_efficiency(G)\n",
    "print('Network efficiency', E)\n",
    "leff = nx.local_efficiency(G)\n",
    "print('The average local efficiency of the network:', leff)"
   ]
  },
  {
   "cell_type": "markdown",
   "metadata": {},
   "source": [
    "# Advogato"
   ]
  },
  {
   "cell_type": "code",
   "execution_count": 9,
   "metadata": {},
   "outputs": [
    {
     "name": "stdout",
     "output_type": "stream",
     "text": [
      "Assortativity =  -0.0957\n"
     ]
    }
   ],
   "source": [
    "# If the data file has only two columns, use this:\n",
    "G= G=nx.read_edgelist(\"data/Advogato.txt\", nodetype=int)\n",
    "G = G.to_undirected()\n",
    "G.remove_edges_from(nx.selfloop_edges(G))\n",
    "Gcc = sorted(nx.connected_components(G), key=len, reverse=True)\n",
    "G = G.subgraph(Gcc[0])\n",
    "G = nx.convert_node_labels_to_integers(G, first_label=0)\n",
    "r=nx.degree_assortativity_coefficient(G)\n",
    "print(\"Assortativity = \",\"%3.4f\"%r)"
   ]
  },
  {
   "cell_type": "markdown",
   "metadata": {},
   "source": [
    "# USairport500\n"
   ]
  },
  {
   "cell_type": "code",
   "execution_count": 35,
   "metadata": {},
   "outputs": [],
   "source": [
    "# If the data file has only two columns, use this:\n",
    "G= G=nx.read_edgelist(\"data/USairport500.txt\", nodetype=int)\n",
    "G = G.to_undirected()\n",
    "G.remove_edges_from(nx.selfloop_edges(G))\n",
    "Gcc = sorted(nx.connected_components(G), key=len, reverse=True)\n",
    "G = G.subgraph(Gcc[0])\n",
    "G = nx.convert_node_labels_to_integers(G, first_label=0)\n"
   ]
  },
  {
   "cell_type": "code",
   "execution_count": 36,
   "metadata": {},
   "outputs": [
    {
     "name": "stdout",
     "output_type": "stream",
     "text": [
      "Entropia de Shannon dos comprimentos dos menores caminhos: 1.9007137451744507\n"
     ]
    }
   ],
   "source": [
    "shortest_path_lengths = dict(nx.all_pairs_shortest_path_length(G))\n",
    "largest_component_nodes = list(G.nodes)\n",
    "\n",
    "shortest_path_lengths_largest_component = {\n",
    "    node: {k: v for k, v in lengths.items() if k in largest_component_nodes}\n",
    "    for node, lengths in shortest_path_lengths.items()\n",
    "}\n",
    "path_lengths = [\n",
    "    length\n",
    "    for lengths in shortest_path_lengths_largest_component.values()\n",
    "    for length in lengths.values()\n",
    "]\n",
    "length_counts = np.bincount(path_lengths)\n",
    "\n",
    "\n",
    "total_paths = sum(length_counts)\n",
    "path_probabilities = length_counts / total_paths\n",
    "\n",
    "# Calcular a entropia de Shannon\n",
    "shannon_entropy = -np.sum(path_probabilities * np.log2(path_probabilities))\n",
    "\n",
    "print(\"Entropia de Shannon dos comprimentos dos menores caminhos:\", shannon_entropy)"
   ]
  },
  {
   "cell_type": "markdown",
   "metadata": {},
   "source": [
    "# word_adjacencies"
   ]
  },
  {
   "cell_type": "code",
   "execution_count": 53,
   "metadata": {},
   "outputs": [
    {
     "name": "stdout",
     "output_type": "stream",
     "text": [
      "Coeficiente de correlação de Pearson entre graus dos nós: 0.006684810197378903\n",
      "Grau médio dos vizinhos da rede: 14.76\n",
      "Coeficiente de correlação de Pearson entre k e knn(k): -0.710832214935246\n"
     ]
    }
   ],
   "source": [
    "# Carrega a rede de palavras\n",
    "G = nx.read_edgelist(\"data/word_adjacencies.txt\")\n",
    "\n",
    "# Encontra o maior componente conectado\n",
    "largest_cc = max(nx.connected_components(G), key=len)\n",
    "G = G.subgraph(largest_cc)\n",
    "\n",
    "# Calcula o grau de cada nó\n",
    "vk = dict(G.degree())\n",
    "\n",
    "# Calcula os graus dos nós conectados por uma aresta\n",
    "ki = []\n",
    "kj = []\n",
    "for edge in G.edges():\n",
    "    ki.append(vk[edge[0]])\n",
    "    kj.append(vk[edge[1]])\n",
    "\n",
    "# Calcula a correlação de Pearson entre os graus dos nós\n",
    "corr, _ = pearsonr(ki, kj)\n",
    "print('Coeficiente de correlação de Pearson entre graus dos nós:', corr)\n",
    "\n",
    "# Calcula o grau médio dos vizinhos para cada nó\n",
    "knn = []\n",
    "for i in G.nodes():\n",
    "    aux = nx.average_neighbor_degree(G, nodes=[i])\n",
    "    knn.append(float(aux[i]))\n",
    "knn = np.array(knn)\n",
    "print(\"Grau médio dos vizinhos da rede:\", \"%3.2f\" % np.mean(knn))\n",
    "\n",
    "# Calcula a correlação entre k e knn(k)\n",
    "knnk = []\n",
    "ks = []\n",
    "for k in np.arange(np.min(list(vk.values())), np.max(list(vk.values())) + 1):\n",
    "    aux = [vk[node] == k for node in G.nodes()]\n",
    "    if len(knn[aux]) > 0:\n",
    "        av_knn = np.mean(knn[aux])\n",
    "        knnk.append(av_knn)\n",
    "        ks.append(k)\n",
    "\n",
    "# Calcula a correlação de Pearson entre k e knn(k)\n",
    "rho = np.corrcoef(ks, knnk)[0, 1]\n",
    "print('Coeficiente de correlação de Pearson entre k e knn(k):', rho)"
   ]
  }
 ],
 "metadata": {
  "kernelspec": {
   "display_name": "Python 3",
   "language": "python",
   "name": "python3"
  },
  "language_info": {
   "codemirror_mode": {
    "name": "ipython",
    "version": 3
   },
   "file_extension": ".py",
   "mimetype": "text/x-python",
   "name": "python",
   "nbconvert_exporter": "python",
   "pygments_lexer": "ipython3",
   "version": "3.11.9"
  }
 },
 "nbformat": 4,
 "nbformat_minor": 2
}
