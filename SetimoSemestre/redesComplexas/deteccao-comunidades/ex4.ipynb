{
  "cells": [
    {
      "cell_type": "code",
      "execution_count": 11,
      "metadata": {
        "id": "wgY6Hz9yaqxs"
      },
      "outputs": [],
      "source": [
        "import networkx as nx\n",
        "import numpy as np\n",
        "import matplotlib.pyplot as plt\n",
        "from scipy.stats import pearsonr\n",
        "from scipy.stats import spearmanr\n",
        "from scipy import stats\n",
        "from networkx.algorithms.community import greedy_modularity_communities\n",
        "from community import community_louvain"
      ]
    },
    {
      "cell_type": "code",
      "execution_count": 12,
      "metadata": {
        "id": "E6pl3ixqavxP"
      },
      "outputs": [],
      "source": [
        "def criar_rede_por_txt(arquivo_caminho, ponderado = False):\n",
        "  G = nx.Graph()\n",
        "  with open(arquivo_caminho,\"r\") as arquivo:\n",
        "    for linha in arquivo: \n",
        "      linha = linha.replace(\"\\n\", \"\").split(\" \")\n",
        "      if ponderado:\n",
        "        G.add_edge(linha[0], linha[1], peso = linha[2])\n",
        "      else:\n",
        "        G.add_edge(linha[0], linha[1])\n",
        "  return G\n",
        "\n",
        "def preprocessar_grafo(G, para_não_direcionado = True, remover_selfloop = True, componente_maior = True, renomear = True):\n",
        "  if para_não_direcionado:\n",
        "    G = G.to_undirected()\n",
        "  if remover_selfloop:\n",
        "    G.remove_edges_from(nx.selfloop_edges(G))\n",
        "  if componente_maior:\n",
        "    Gcc = sorted(nx.connected_components(G), key=len, reverse=True)\n",
        "    G = G.subgraph(Gcc[0])\n",
        "  if renomear:\n",
        "    G = nx.convert_node_labels_to_integers(G, first_label=0)\n",
        "  return G\n",
        "\n",
        "def calcular_modularidade(G, c):\n",
        "  A = nx.adjacency_matrix(G)\n",
        "  N = len(G)\n",
        "  M = G.number_of_edges()\n",
        "  Q = 0\n",
        "  for i in np.arange(0,N):\n",
        "      ki = len(list(G.neighbors(i)))\n",
        "      for j in np.arange(0,N):\n",
        "          if(c[i]==c[j]):\n",
        "              kj = len(list(G.neighbors(j)))\n",
        "              Q = Q + A[i,j]-(ki*kj)/(2*M)\n",
        "  Q = Q/(2*M)\n",
        "  return Q\n",
        "\n",
        "def agrupamento_greedy(G):\n",
        "\n",
        "  c = list(greedy_modularity_communities(G))\n",
        "  comunidades = np.zeros(len(G.nodes()))\n",
        "  nc = 0\n",
        "  for k in range(0,len(c)):\n",
        "    lista = list(map(int, c[k]))\n",
        "    comunidades[sorted(lista)]=nc\n",
        "    nc = nc+1\n",
        "  \n",
        "  return calcular_modularidade(G,comunidades)\n",
        "\n",
        "def louvain(G):\n",
        "\n",
        "  particao = community_louvain.best_partition(G)\n",
        "\n",
        "  comunidades = np.array(list(particao.values()))\n",
        "    \n",
        "  return calcular_modularidade(G,comunidades)\n"
      ]
    },
    {
      "cell_type": "markdown",
      "metadata": {
        "id": "9JvARdETa1AX"
      },
      "source": [
        "Q1"
      ]
    },
    {
      "cell_type": "code",
      "execution_count": 13,
      "metadata": {
        "id": "WSgGbeS9axly"
      },
      "outputs": [],
      "source": [
        "caminho_g1 = r\"data/jazz.txt\"\n",
        "G1 = criar_rede_por_txt(caminho_g1)\n",
        "G1 = preprocessar_grafo(G1)\n"
      ]
    },
    {
      "cell_type": "code",
      "execution_count": 14,
      "metadata": {
        "colab": {
          "base_uri": "https://localhost:8080/"
        },
        "id": "CqmKhTN_dol_",
        "outputId": "00feef6b-36f9-41ea-d462-ceb8ee07eb15"
      },
      "outputs": [
        {
          "name": "stdout",
          "output_type": "stream",
          "text": [
            "0.4389078153753761\n"
          ]
        }
      ],
      "source": [
        "mod_g1 = agrupamento_greedy(G1)\n",
        "print(mod_g1)\n"
      ]
    },
    {
      "cell_type": "markdown",
      "metadata": {
        "id": "KKx6peUaeAwW"
      },
      "source": [
        "Q2"
      ]
    },
    {
      "cell_type": "code",
      "execution_count": 15,
      "metadata": {
        "colab": {
          "base_uri": "https://localhost:8080/"
        },
        "id": "HKsadXD_eB3m",
        "outputId": "d37c0e52-3349-4f75-b199-4ee5d3db8fc5"
      },
      "outputs": [
        {
          "name": "stdout",
          "output_type": "stream",
          "text": [
            "0.43524242129214225\n"
          ]
        }
      ],
      "source": [
        "mod_g2 = louvain(G1)\n",
        "print(mod_g2)"
      ]
    },
    {
      "cell_type": "markdown",
      "metadata": {
        "id": "k-lPpv-GeX-n"
      },
      "source": [
        "Q3"
      ]
    },
    {
      "cell_type": "code",
      "execution_count": 16,
      "metadata": {
        "colab": {
          "base_uri": "https://localhost:8080/"
        },
        "id": "GxucfivpeYug",
        "outputId": "4e69b9fb-297a-46d7-ed16-faa0d0196661"
      },
      "outputs": [
        {
          "name": "stdout",
          "output_type": "stream",
          "text": [
            "Q(mu = 0.05) = 0.643639535397838\n",
            "Q(mu = 0.1) = 0.5427818606053953\n",
            "Q(mu = 0.2) = 0.44487909975820294\n"
          ]
        }
      ],
      "source": [
        "N = 128\n",
        "tau1 = 3\n",
        "tau2 = 1.5\n",
        "k = 16\n",
        "minc = 32\n",
        "maxc = 32\n",
        "G1 = nx.LFR_benchmark_graph(n = N, tau1 = tau1, tau2 = tau2, mu = 0.05, min_degree = k, max_degree = k, min_community=minc, max_community = maxc, seed = 10)\n",
        "print(\"Q(mu = 0.05) =\",  louvain(G1))\n",
        "G2 = nx.LFR_benchmark_graph(n = N, tau1 = tau1, tau2 = tau2, mu = 0.1, min_degree = k, max_degree = k, min_community=minc, max_community = maxc, seed = 10)\n",
        "print(\"Q(mu = 0.1) =\",  louvain(G2))\n",
        "G3 = nx.LFR_benchmark_graph(n = N, tau1 = tau1, tau2 = tau2, mu = 0.2, min_degree = k, max_degree = k, min_community=minc, max_community = maxc, seed = 10)\n",
        "print(\"Q(mu = 0.2) =\",  louvain(G3))"
      ]
    },
    {
      "cell_type": "markdown",
      "metadata": {
        "id": "ms97wJ7Cffhv"
      },
      "source": [
        "Q4"
      ]
    },
    {
      "cell_type": "code",
      "execution_count": 17,
      "metadata": {
        "colab": {
          "base_uri": "https://localhost:8080/"
        },
        "id": "rdmvUPFqex69",
        "outputId": "41a67fdf-c885-4243-8675-c68a8f0919e5"
      },
      "outputs": [
        {
          "name": "stdout",
          "output_type": "stream",
          "text": [
            "Q(mu = 0.05) = 0.643639535397838\n",
            "Q(mu = 0.2) = 0.44487909975820294\n",
            "Q(mu = 0.4) = 0.18248436216158032\n"
          ]
        }
      ],
      "source": [
        "G1 = nx.LFR_benchmark_graph(n = N, tau1 = tau1, tau2 = tau2, mu = 0.05, min_degree = k, max_degree = k, min_community=minc, max_community = maxc, seed = 10)\n",
        "print(\"Q(mu = 0.05) =\",  louvain(G1))\n",
        "G2 = nx.LFR_benchmark_graph(n = N, tau1 = tau1, tau2 = tau2, mu = 0.2, min_degree = k, max_degree = k, min_community=minc, max_community = maxc, seed = 10)\n",
        "print(\"Q(mu = 0.2) =\",  louvain(G2))\n",
        "G3 = nx.LFR_benchmark_graph(n = N, tau1 = tau1, tau2 = tau2, mu = 0.4, min_degree = k, max_degree = k, min_community=minc, max_community = maxc, seed = 10)\n",
        "print(\"Q(mu = 0.4) =\",  louvain(G3))"
      ]
    }
  ],
  "metadata": {
    "colab": {
      "provenance": []
    },
    "kernelspec": {
      "display_name": "Python 3",
      "name": "python3"
    },
    "language_info": {
      "codemirror_mode": {
        "name": "ipython",
        "version": 3
      },
      "file_extension": ".py",
      "mimetype": "text/x-python",
      "name": "python",
      "nbconvert_exporter": "python",
      "pygments_lexer": "ipython3",
      "version": "3.11.9"
    }
  },
  "nbformat": 4,
  "nbformat_minor": 0
}
