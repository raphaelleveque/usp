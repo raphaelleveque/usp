{
 "cells": [
  {
   "cell_type": "code",
   "execution_count": 34,
   "metadata": {},
   "outputs": [],
   "source": [
    "import pandas as pd # biblioteca pandas\n",
    "import numpy as np \n",
    "from scipy.stats import iqr\n",
    "\n",
    "data = pd.read_csv('data/iris.csv', header=(0)) # lê os dados a partir do arquivo"
   ]
  },
  {
   "cell_type": "code",
   "execution_count": 35,
   "metadata": {},
   "outputs": [
    {
     "name": "stdout",
     "output_type": "stream",
     "text": [
      "Média:\n",
      "5.843333333333334\n",
      "3.0540000000000003\n",
      "3.758666666666666\n",
      "1.1986666666666668\n",
      "Variância: \n",
      "0.6856935123042507\n",
      "0.1880040268456376\n",
      "3.113179418344519\n",
      "0.582414317673378\n",
      "IQR: \n",
      "1.3000000000000007\n",
      "0.5\n",
      "3.4999999999999996\n",
      "1.5\n"
     ]
    }
   ],
   "source": [
    "\n",
    "# convertemos para o formato Numpy e ignoramos a última coluna (classe)\n",
    "X = np.array(data[data.columns[0:data.shape[1]-1]], dtype = float) \n",
    "print('Média:')\n",
    "print(data['sepal_length'].mean())\n",
    "print(data['sepal_width'].mean())\n",
    "print(data['petal_length'].mean())\n",
    "print(data['petal_width'].mean())\n",
    "\n",
    "print('Variância: ')\n",
    "print(data['sepal_length'].var())\n",
    "print(data['sepal_width'].var())\n",
    "print(data['petal_length'].var())\n",
    "print(data['petal_width'].var())\n",
    "\n",
    "print('IQR: ')\n",
    "print(iqr(data['sepal_length']))\n",
    "print(iqr(data['sepal_width']))\n",
    "print(iqr(data['petal_length']))\n",
    "print(iqr(data['petal_width']))\n",
    "\n",
    "\n",
    "\n"
   ]
  }
 ],
 "metadata": {
  "kernelspec": {
   "display_name": "Python 3.10.6 64-bit",
   "language": "python",
   "name": "python3"
  },
  "language_info": {
   "codemirror_mode": {
    "name": "ipython",
    "version": 3
   },
   "file_extension": ".py",
   "mimetype": "text/x-python",
   "name": "python",
   "nbconvert_exporter": "python",
   "pygments_lexer": "ipython3",
   "version": "3.10.6"
  },
  "orig_nbformat": 4,
  "vscode": {
   "interpreter": {
    "hash": "b0fa6594d8f4cbf19f97940f81e996739fb7646882a419484c72d19e05852a7e"
   }
  }
 },
 "nbformat": 4,
 "nbformat_minor": 2
}
