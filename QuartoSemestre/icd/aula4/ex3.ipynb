{
 "cells": [
  {
   "cell_type": "code",
   "execution_count": 5,
   "metadata": {},
   "outputs": [
    {
     "name": "stdout",
     "output_type": "stream",
     "text": [
      "Acurácia para os dados data/iris.csv :  1.0\n",
      "Acurácia para os dados data/Vehicle.csv :  0.7941176470588235\n"
     ]
    }
   ],
   "source": [
    "import random\n",
    "random.seed(42) # define the seed (important to reproduce the results)\n",
    "import pandas as pd\n",
    "import numpy as np\n",
    "import matplotlib.pyplot as plt\n",
    "from sklearn.model_selection import train_test_split\n",
    "from sklearn.preprocessing import StandardScaler\n",
    "from sklearn.linear_model import LogisticRegression\n",
    "from sklearn import metrics\n",
    "\n",
    "\n",
    "def regressao_logistica(filename):\n",
    "    data = pd.read_csv(filename, header=(0))\n",
    "    #data = pd.read_csv('data/winequality-red.csv', header=(0))\n",
    "\n",
    "    data = data.dropna(axis='rows') #remove NaN\n",
    "    # armazena os nomes das classes\n",
    "    classes = np.array(pd.unique(data[data.columns[-1]]), dtype=str)  \n",
    "    attributes = list(data.columns)\n",
    "    data = data.to_numpy()\n",
    "    nrow,ncol = data.shape\n",
    "    y = data[:,-1]\n",
    "    X = data[:,0:ncol-1]\n",
    "\n",
    "    scaler = StandardScaler().fit(X)\n",
    "    X = scaler.transform(X)\n",
    "    p = 0.2 # fraction of elements in the test set\n",
    "    x_train, x_test, y_train, y_test = train_test_split(X, y, test_size = p, random_state = 42)\n",
    "    model = LogisticRegression(solver = 'lbfgs', multi_class = 'auto', max_iter = 1000)\n",
    "    model.fit(x_train, y_train)\n",
    "\n",
    "    y_pred = model.predict(x_test)\n",
    "    print('Acurácia para os dados', filename, ': ', model.score(x_test, y_test))\n",
    "\n",
    "regressao_logistica('data/iris.csv')\n",
    "regressao_logistica('data/Vehicle.csv')"
   ]
  },
  {
   "cell_type": "markdown",
   "metadata": {},
   "source": [
    "De acordo com o exercício 1:<br>\n",
    "Acurácia para os dados da iris: 0.977<br>\n",
    "Acurácia para os dados de veículos: 0.767"
   ]
  }
 ],
 "metadata": {
  "kernelspec": {
   "display_name": "Python 3.10.6 64-bit",
   "language": "python",
   "name": "python3"
  },
  "language_info": {
   "codemirror_mode": {
    "name": "ipython",
    "version": 3
   },
   "file_extension": ".py",
   "mimetype": "text/x-python",
   "name": "python",
   "nbconvert_exporter": "python",
   "pygments_lexer": "ipython3",
   "version": "3.10.6"
  },
  "orig_nbformat": 4,
  "vscode": {
   "interpreter": {
    "hash": "b0fa6594d8f4cbf19f97940f81e996739fb7646882a419484c72d19e05852a7e"
   }
  }
 },
 "nbformat": 4,
 "nbformat_minor": 2
}
