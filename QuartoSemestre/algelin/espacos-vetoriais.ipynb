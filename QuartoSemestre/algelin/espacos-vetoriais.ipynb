{
  "cells": [
    {
      "cell_type": "markdown",
      "metadata": {
        "id": "QPHaPSFCB27v"
      },
      "source": [
        "#SME0142 - Álgebra Linear e Aplicações\n",
        "####Docente: Cynthia de Oliveira Lage Ferreira\n",
        "\n",
        "\n",
        "\n"
      ]
    },
    {
      "cell_type": "markdown",
      "metadata": {
        "id": "Lf_Dc3W03JdP"
      },
      "source": [
        "Bibliotecas necessárias:"
      ]
    },
    {
      "cell_type": "code",
      "execution_count": 4,
      "metadata": {
        "id": "C_oqUaje3Iu5"
      },
      "outputs": [],
      "source": [
        "import numpy as np\n",
        "import matplotlib.pyplot as plt\n",
        "from mpl_toolkits.mplot3d import Axes3D\n"
      ]
    },
    {
      "cell_type": "markdown",
      "metadata": {
        "id": "7eDbc1-E2oZD"
      },
      "source": [
        "Funções auxiliares (você receberá instruções de como usá-las ao longo do enunciado);"
      ]
    },
    {
      "cell_type": "code",
      "execution_count": 5,
      "metadata": {
        "id": "9QBnypow2zSs"
      },
      "outputs": [],
      "source": [
        "# função da alternativa a da questão 4:\n",
        "def subespaco_alternativa_a():\n",
        "  # Plot do planos\n",
        "  fig = plt.figure(figsize=(7,7))\n",
        "  ax = Axes3D(fig)\n",
        "\n",
        "  # Subespaço U (plano yz, em cinza)\n",
        "  yy, zz = np.meshgrid(range(-3,3), range(-3,3))\n",
        "  xx = np.zeros(yy.shape)\n",
        "  ax.plot_surface(xx, yy, zz, alpha=0.2)\n",
        "\n",
        "  # Subespaço V (plano xz, na cor salmão)\n",
        "  xx, zz = np.meshgrid(range(-3,3), range(-3,3))\n",
        "  yy = np.zeros(xx.shape)\n",
        "  ax.plot_surface(xx, yy, zz, alpha=0.2) \n",
        "\n",
        "  # A interseção dos subespaços é o eixo z\n",
        "  ax.plot([0,0], [0,0], [-3,3])\n",
        "\n",
        "  # Plot da origem\n",
        "  ax.scatter(0, 0, 0, s=25, color='k')\n",
        "\n",
        "  # Apenas um ajuste na posição do observador\n",
        "  ax.view_init(30, 60)\n",
        "\n",
        "# ------------------------------------------------------------\n",
        "\n",
        "# função da alternativa b da questão 4:\n",
        "def subespaco_alternativa_b():\n",
        "  # Plot do planos\n",
        "  fig = plt.figure(figsize=(7,7))\n",
        "  ax = Axes3D(fig)\n",
        "\n",
        "  # Subespaço U (plano xy, em cinza)\n",
        "  yy, xx = np.meshgrid(range(-3,3), range(-3,3))\n",
        "  zz = np.zeros(yy.shape)\n",
        "  ax.plot_surface(xx, yy, zz, alpha=0.2)\n",
        "\n",
        "  # Subespaço V (plano xz, na cor salmão)\n",
        "  xx, zz = np.meshgrid(range(-3,3), range(-3,3))\n",
        "  yy = np.zeros(xx.shape)\n",
        "  ax.plot_surface(xx, yy, zz, alpha=0.2) \n",
        "\n",
        "  # A interseção dos subespaços é o eixo x\n",
        "  ax.plot([-3,3], [0,0], [0,0])\n",
        "\n",
        "  # Plot da origem\n",
        "  ax.scatter(0, 0, 0, s=25, color='k')\n",
        "\n",
        "  # Apenas um ajuste na posição do observador\n",
        "  ax.view_init(30, 60)\n",
        "\n",
        "#  -----------------------------------------------------\n",
        "\n",
        "  \n",
        "# função da alternativa c da questão 4:\n",
        "def subespaco_alternativa_c():\n",
        "  # Plot do planos\n",
        "  fig = plt.figure(figsize=(7,7))\n",
        "  ax = Axes3D(fig)\n",
        "\n",
        "  # Subespaço U (plano xy, em cinza)\n",
        "  yy, xx = np.meshgrid(range(-3,3), range(-3,3))\n",
        "  zz = np.zeros(yy.shape)\n",
        "  ax.plot_surface(xx, yy, zz, alpha=0.2)\n",
        "\n",
        "  # Subespaço V (plano yz, na cor salmão)\n",
        "  yy, zz = np.meshgrid(range(-3,3), range(-3,3))\n",
        "  xx = np.zeros(yy.shape)\n",
        "  ax.plot_surface(xx, yy, zz, alpha=0.2) \n",
        "\n",
        "  # A interseção dos subespaços é o eixo y\n",
        "  ax.plot([0,0], [-3,3], [0,0])\n",
        "\n",
        "  # Plot da origem\n",
        "  ax.scatter(0, 0, 0, s=25, color='k')\n",
        "\n",
        "  # Apenas um ajuste na posição do observador\n",
        "  ax.view_init(30, 60)"
      ]
    },
    {
      "cell_type": "markdown",
      "metadata": {
        "id": "dNUoIItfCg2m"
      },
      "source": [
        "### Exercício 01 - Mudança de base\n",
        "Considere as seguintes bases de $\\mathbb{R}^2$\n",
        "$$B = \\{(2,1),(1,2)\\} \\quad \\text{e} \\quad C = \\{(1,0),(0,1)\\}.$$\n",
        "- Determine as matrizes de mudança de base $M_B^C$ e $M_C^B$.\n",
        "- Sejam as coordenadas do vetor $v$ em relação a base $C$ dadas por $v_C = [8, 7]^\\top$. Calcule as coordenadas do vetor v em relação a base $B$."
      ]
    },
    {
      "cell_type": "markdown",
      "metadata": {
        "id": "fV52aeuEjsWq"
      },
      "source": [
        "Bibliotecas necessárias:"
      ]
    },
    {
      "cell_type": "markdown",
      "metadata": {
        "id": "M5n23EuMjvLp"
      },
      "source": [
        "Você pode utilizar a função solve do numpy (np.linalg.solve) e também a função que calcula matrizes inversas do numpy, assim como outras funções do numpy que julgar necessárias."
      ]
    },
    {
      "cell_type": "code",
      "execution_count": 6,
      "metadata": {
        "id": "a56pDeGPBlHv"
      },
      "outputs": [
        {
          "ename": "SyntaxError",
          "evalue": "incomplete input (722109575.py, line 3)",
          "output_type": "error",
          "traceback": [
            "\u001b[0;36m  Input \u001b[0;32mIn [6]\u001b[0;36m\u001b[0m\n\u001b[0;31m    print('Coordenadas do vetor v em relação a base B: ', # coloque aqui as coordenadas obtidas para v em relação à base B)\u001b[0m\n\u001b[0m                                                                                                                           ^\u001b[0m\n\u001b[0;31mSyntaxError\u001b[0m\u001b[0;31m:\u001b[0m incomplete input\n"
          ]
        }
      ],
      "source": [
        "\n",
        "print('Coordenadas do vetor v em relação a base B: ', # coloque aqui as coordenadas obtidas para v em relação à base B)"
      ]
    },
    {
      "cell_type": "markdown",
      "metadata": {
        "id": "PBGM1xNEVd1c"
      },
      "source": [
        "###Visualização do vetor $v$ nas bases B e C."
      ]
    },
    {
      "cell_type": "markdown",
      "metadata": {
        "id": "o6lbwEja4rFD"
      },
      "source": [
        "Obs: v_B e v_C devem ter o shape (np.shape) igual a (2,) para serem passados para a função visualiza_vetor."
      ]
    },
    {
      "cell_type": "code",
      "execution_count": null,
      "metadata": {
        "id": "F78GP-gLo3M5"
      },
      "outputs": [],
      "source": [
        "# Declare aqui as variáveis v_B e v_C:\n",
        "\n",
        "# v_B= np.array([?]) # representa as coordenadas do vetor v em relação à base B, que você encontrou acima, com shape (2,).\n",
        "# v_C= np.array([?]) # representa as coordenadas do vetor v em relação à base C,  com shape (2,)\n"
      ]
    },
    {
      "cell_type": "code",
      "execution_count": null,
      "metadata": {
        "id": "ztW5AqfBmHzA"
      },
      "outputs": [],
      "source": [
        "def visualiza_vetor(v_B, v_C):\n",
        "  \n",
        "  xmin, xmax = -1, 10\n",
        "  ymin, ymax = -1, 10\n",
        "\n",
        "  fig = plt.figure(figsize=(17, 8))\n",
        "\n",
        "  ax = fig.add_subplot(121,autoscale_on=False, xlim=(xmin, xmax), ylim=(ymin, ymax))\n",
        "  ax.quiver(0, 0, 1, 0, units='xy', scale=1, color='red')\n",
        "  ax.quiver(0, 0, 0, 1, units='xy', scale=1, color='red')\n",
        "  ax.quiver(0, 0, v_C[0], v_C[1], units='xy', scale=1, color='blue')\n",
        "  ax.grid(True)\n",
        "  ax.set_title(\"Base C\")\n",
        "  text_vc = str(tuple(v_C))\n",
        "  ax.text(7.2, 7.0, text_vc)\n",
        "\n",
        "  ax = fig.add_subplot(122,autoscale_on=False, xlim=(xmin, xmax), ylim=(ymin, ymax))\n",
        "  ax.quiver(0, 0, 2, 1, units='xy', scale=1, color='red')\n",
        "  ax.quiver(0, 0, 1, 2, units='xy', scale=1, color='red')\n",
        "\n",
        "  xmin, xmax = -10, 10\n",
        "  ymin, ymax = -10, 10\n",
        "  gridX = np.arange(xmin, xmax)\n",
        "  gridY = np.arange(ymin, ymax)\n",
        "\n",
        "  # Horizontal lines\n",
        "  for y in gridY:\n",
        "    ax.plot([2 * xmin + y, 2 * xmax + y], \n",
        "            [xmin + 2 * y, xmax + 2 * y], \n",
        "            'k--', alpha = 0.5)\n",
        "\n",
        "  # Vertical lines\n",
        "  for x in gridX:\n",
        "    ax.plot([2 * x + ymin, 2 * x + ymax], \n",
        "            [x + 2 * ymin, x + 2 * ymax], \n",
        "            'k--', alpha = 0.5)\n",
        "\n",
        "  ax.quiver(0, 0, v_C[0], v_C[1], units='xy', scale=1, color='blue')\n",
        "  ax.set_title(\"Base B\")\n",
        "  text_vb = str(tuple(v_B))\n",
        "  ax.text(7.2, 7.0, text_vb)\n",
        "  ax.set_xticks([])\n",
        "  ax.set_yticks([])"
      ]
    },
    {
      "cell_type": "code",
      "execution_count": null,
      "metadata": {
        "id": "fmlfy4ino9nx"
      },
      "outputs": [],
      "source": [
        "# Utilize a função acima:\n",
        "visualiza_vetor(v_B, v_C)\n"
      ]
    },
    {
      "cell_type": "markdown",
      "metadata": {
        "id": "KwWhO0s3DiQ_"
      },
      "source": [
        "### Exercício 02 - Mudança de base\n",
        "Considere a base $B$ de $\\mathbb{R}^3$ formada pelos vetores $(1,0,1)$, $(1,1,1)$ e $(1,1,2)$. Considere também a base $C$ formada pelos vetores $(1,0,0)$, $(0,1,0)$ e $(0,0,1)$.\n",
        "- Calcule $M_B^C$ e $M_C^B$\n",
        "- Generalize o cálculo da matriz de mudança de base em uma função, passando as duas matrizes B e C por parâmetro, por exemplo."
      ]
    },
    {
      "cell_type": "code",
      "execution_count": null,
      "metadata": {
        "id": "7wmGhyoJDjRN"
      },
      "outputs": [],
      "source": [
        "# faça o código do exercício 2 aqui"
      ]
    },
    {
      "cell_type": "markdown",
      "metadata": {
        "id": "ByAVjfg-DjpQ"
      },
      "source": [
        "### Exercício 03 - Subespaço \n",
        "Considere, em $\\mathbb{R}^3$, o plano dado pela equação $x+y-z=0$. \n",
        "Os vetores $u=[1, 0, 1]^\\top$ e $v=[0, 1, 1]^\\top$ pertencem a tal plano (como verificar esta afirmação?). Qualquer combinação linear $w=au + bv$, com $a,b\\in \\mathbb{R}$, pertence ao plano, pois\n",
        "\n",
        "$$\n",
        "w = \\begin{bmatrix} a \\\\ b \\\\ a+b \\end{bmatrix}.\n",
        "$$\n",
        "\n",
        "Logo o plano corresponde a um subespaço de $\\mathbb{R}^3$.\n",
        "- Implemente uma visualização desse subespaço com os vetores $u$ e $v$ e uma combinação linear qualquer desses vetores."
      ]
    },
    {
      "cell_type": "code",
      "execution_count": null,
      "metadata": {
        "id": "zfreWiAppq1O"
      },
      "outputs": [],
      "source": [
        "# função para você fazer a visualização do subespaço:\n",
        "# u e v são numpy arrays contendo as respectivas coordenadas;\n",
        "# w será uma combinação linear de u e v;\n",
        "\n",
        "def plot_subespaco(u, v, w):\n",
        "  '''\n",
        "    Parâmetros:   \n",
        "      u (np.ndarray) : coordenadas de u\n",
        "      v (np.ndarray) : coordenadas de v\n",
        "      w (np.ndarray) : coordenadas de w\n",
        "  '''\n",
        "\n",
        "  # O plano x + y - z = 0 pode ser visto como \n",
        "  # a função no R^3, z = x + y.\n",
        "  # Discretização do domínio, no caso, \n",
        "  # [-3,3]x[-3,3] no plano xy.\n",
        "  xx, yy = np.meshgrid(range(-3,3), range(-3,3)) \n",
        "  zz = xx + yy\n",
        "\n",
        "  # Plot do plano\n",
        "  fig = plt.figure(figsize=(7,7))\n",
        "  ax = Axes3D(fig)\n",
        "  ax.plot_surface(xx, yy, zz, alpha=0.2)\n",
        "\n",
        "  # Plot da origem\n",
        "  ax.scatter(0, 0, 0, s=25, color='k')\n",
        "\n",
        "  # Plot dos vetores\n",
        "  ax.quiver(0, 0, 0, u[0], u[1], u[2], color='blue')\n",
        "  ax.quiver(0, 0, 0, v[0], v[1], v[2], color='red')\n",
        "\n",
        "  # Plot de uma combinação linear\n",
        "  print(\"W: \", w)\n",
        "  ax.quiver(0, 0, 0, w[0], w[1], w[2], color='green')"
      ]
    },
    {
      "cell_type": "markdown",
      "metadata": {
        "id": "hA9mLR_6s3m1"
      },
      "source": [
        "O vetor $u$ aparecerá em azul, o $v$ em vermelho e $w$ em verde:"
      ]
    },
    {
      "cell_type": "code",
      "execution_count": null,
      "metadata": {
        "id": "_whjI0yhrpZh"
      },
      "outputs": [],
      "source": [
        "# defina os vetores u e v:\n",
        "# u = ?\n",
        "# v = ?\n",
        "# w = ? (faça uma combinação linear de u e v)\n",
        "\n",
        "# utilize a função para visualizar o subespaço:\n",
        "\n",
        "plot_subespaco(u, v, w)"
      ]
    },
    {
      "cell_type": "markdown",
      "metadata": {
        "id": "z2IofNrEDqdH"
      },
      "source": [
        "### Exercício 04 - Subespaço\n",
        "Considere os subespaços de $\\mathbb{R}^3$ dados por\n",
        "$$\n",
        "U = \\{(x,y,z) \\in \\mathbb{R}^3; x = 0 \\} \\quad \\text{e}\\quad\n",
        "V = \\{(x,y,z) \\in \\mathbb{R}^3; y = 0 \\}.\n",
        "$$\n",
        "Observe que $\\mathbb{R}^3 = U + V$, porém a soma não é direta. \n",
        "\n",
        "Dentre as alternativas abaixos (alternativas a, b e c), qual delas representa uma visualização adequada da interseção $U \\cap V$? Por quê?"
      ]
    },
    {
      "cell_type": "markdown",
      "metadata": {
        "id": "tSFFH5NY5f01"
      },
      "source": [
        "Obs: se preferir, você pode analisar os comentários das definições das funções a serem executadas nas 3 células seguintes abaixo; entretanto, é possível saber a reposta sem olhar a definição das funções."
      ]
    },
    {
      "cell_type": "code",
      "execution_count": null,
      "metadata": {
        "id": "No6vdGGV2XEv"
      },
      "outputs": [],
      "source": [
        "# alternativa a:\n",
        "subespaco_alternativa_a()"
      ]
    },
    {
      "cell_type": "code",
      "execution_count": null,
      "metadata": {
        "id": "QDeMNuEZ2fLA"
      },
      "outputs": [],
      "source": [
        "# alternativa b\n",
        "subespaco_alternativa_b()"
      ]
    },
    {
      "cell_type": "code",
      "execution_count": null,
      "metadata": {
        "id": "LGCWO9c42jg6"
      },
      "outputs": [],
      "source": [
        "# alternativa c\n",
        "subespaco_alternativa_c()"
      ]
    },
    {
      "cell_type": "markdown",
      "metadata": {
        "id": "6tqurAXg9AGv"
      },
      "source": [
        "#### Exercício 05 - Subespaço Gerado\n",
        "\n",
        "Seja $W$ o subespaço de $M_{3\\times2}(\\mathbb{R})$ gerado pelas matrizes\n",
        "\n",
        "$$A_1 = \\begin{bmatrix} 0 & 0 \\\\ 1 & 1 \\\\ 0 & 0 \\end{bmatrix} , \\;\n",
        "A_2 = \\begin{bmatrix} 0 & 1 \\\\ 0 & -1 \\\\ 1 & 0 \\end{bmatrix} \\; \\text{e} \\;\n",
        "A_3 = \\begin{bmatrix} 0 & 1 \\\\ 0 & 0 \\\\ 0 & 0 \\end{bmatrix} .$$\n",
        "\n",
        "Implemente um código para verificar se a matriz $$A = \\begin{bmatrix} 0 & 2 \\\\ 3 & 4 \\\\ 5 & 0 \\end{bmatrix}$$ pertence ao subespaço $W$."
      ]
    },
    {
      "cell_type": "markdown",
      "metadata": {
        "id": "fg2g2QGY7ehJ"
      },
      "source": [
        "Obs: você pode utilizar a função do numpy np.linalg.solve para esta questão, caso julgue necessário"
      ]
    },
    {
      "cell_type": "code",
      "execution_count": null,
      "metadata": {
        "id": "jGQFnsq875aj"
      },
      "outputs": [],
      "source": [
        "# Comece declarando as matrizes A1, A2, A3 e A:\n",
        "\n",
        "# A1 = ?\n",
        "# A2 = ?\n",
        "# A3 = ?\n",
        "# A = ?\n",
        "\n",
        "# Dica: resolva um sistema linear envolvendo as matrizes declaradas;\n"
      ]
    }
  ],
  "metadata": {
    "colab": {
      "collapsed_sections": [],
      "provenance": [],
      "toc_visible": true
    },
    "kernelspec": {
      "display_name": "Python 3.10.6 64-bit",
      "language": "python",
      "name": "python3"
    },
    "language_info": {
      "codemirror_mode": {
        "name": "ipython",
        "version": 3
      },
      "file_extension": ".py",
      "mimetype": "text/x-python",
      "name": "python",
      "nbconvert_exporter": "python",
      "pygments_lexer": "ipython3",
      "version": "3.10.6"
    },
    "vscode": {
      "interpreter": {
        "hash": "b0fa6594d8f4cbf19f97940f81e996739fb7646882a419484c72d19e05852a7e"
      }
    }
  },
  "nbformat": 4,
  "nbformat_minor": 0
}
