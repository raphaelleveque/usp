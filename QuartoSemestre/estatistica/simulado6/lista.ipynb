{
  "cells": [
    {
      "cell_type": "code",
      "execution_count": 12,
      "metadata": {
        "id": "m__IQZM_z89x"
      },
      "outputs": [],
      "source": [
        "from math import sqrt\n",
        "import math\n",
        "import statistics\n",
        "import scipy\n",
        "import scipy.stats as sss\n",
        "import numpy as np"
      ]
    },
    {
      "cell_type": "code",
      "execution_count": 13,
      "metadata": {
        "id": "DYf3LFLS3b3L"
      },
      "outputs": [],
      "source": [
        "import numpy as np\n",
        "from statistics import *\n",
        "import matplotlib.pyplot as plt\n",
        "from scipy.stats import t\n",
        "from scipy.stats import ttest_1samp\n",
        "from scipy.stats import ttest_ind_from_stats\n",
        "from scipy.stats import norm\n",
        "from scipy.stats import binom\n",
        "from scipy.stats import binomtest"
      ]
    },
    {
      "cell_type": "code",
      "execution_count": 14,
      "metadata": {
        "id": "0RVm_iJt0Bi4"
      },
      "outputs": [],
      "source": [
        "from scipy.stats import t\n",
        "from scipy.stats import ttest_1samp"
      ]
    },
    {
      "cell_type": "markdown",
      "metadata": {
        "id": "KNHM2F4733Mr"
      },
      "source": [
        "Verificar a hipose dada, verificar se a amostra rejeita a hipotese"
      ]
    },
    {
      "cell_type": "code",
      "execution_count": null,
      "metadata": {
        "id": "fKc7JSlS3257"
      },
      "outputs": [],
      "source": []
    },
    {
      "cell_type": "code",
      "execution_count": 15,
      "metadata": {
        "id": "B6bqxREC0Ndu"
      },
      "outputs": [],
      "source": [
        "#x = np.array( [174.8, 170.5, 172.0, 170.9, 178.1, 179.0, 184.5, 143.0, 171.2, 172.6, 140.4, 165.2])"
      ]
    },
    {
      "cell_type": "markdown",
      "metadata": {
        "id": "cZ2qJ9yxjLTx"
      },
      "source": [
        "A resistˆencia de um certo tipo de cabo de a ̧co  ́e uma\n",
        "vari ́avel aleat ́oria modelada pela distribui ̧c ̃ao Normal com desvio\n",
        "padr ̃ao igual a 6kgf. Uma amostra de tamanho 25 desses cabos, es-\n",
        "colhida ao acaso, forneceu m ́edia igual a 9, 8kgf. Teste as hip ́oteses\n",
        "μ = 13 versus μ = 8 e tire suas conclus ̃oes a um n ́ıvel de significˆancia\n",
        "de 10%."
      ]
    },
    {
      "cell_type": "code",
      "execution_count": 16,
      "metadata": {
        "colab": {
          "base_uri": "https://localhost:8080/"
        },
        "id": "V9A9yCZSjF5R",
        "outputId": "8cff8186-c2f2-4203-c5dc-260016507797"
      },
      "outputs": [
        {
          "data": {
            "text/plain": [
              "-2.666666666666666"
            ]
          },
          "execution_count": 16,
          "metadata": {},
          "output_type": "execute_result"
        }
      ],
      "source": [
        "x = 9.8\n",
        "s = 6\n",
        "n = 25\n",
        "u = 13\n",
        "\n",
        "t = (x - u)/(s/sqrt(n))\n",
        "t"
      ]
    },
    {
      "cell_type": "code",
      "execution_count": 17,
      "metadata": {
        "colab": {
          "base_uri": "https://localhost:8080/"
        },
        "id": "UVK7RP9_kEPL",
        "outputId": "0c196298-c61e-42d0-bb34-4f399e9b37ad"
      },
      "outputs": [
        {
          "name": "stdout",
          "output_type": "stream",
          "text": [
            "Valor-p: 0.006748803371231675\n"
          ]
        }
      ],
      "source": [
        "alpha_hat = scipy.stats.t.cdf(t, n-1)\n",
        "\n",
        "print(f\"Valor-p: {alpha_hat}\")"
      ]
    },
    {
      "cell_type": "code",
      "execution_count": 18,
      "metadata": {
        "colab": {
          "base_uri": "https://localhost:8080/"
        },
        "id": "i943Vj8F8das",
        "outputId": "6c9e3d43-189c-4a3d-b638-48af1ec16abf"
      },
      "outputs": [
        {
          "data": {
            "text/plain": [
              "1.5000000000000007"
            ]
          },
          "execution_count": 18,
          "metadata": {},
          "output_type": "execute_result"
        }
      ],
      "source": [
        "x = 9.8\n",
        "s = 6\n",
        "n = 25\n",
        "u = 8\n",
        "\n",
        "t = (x - u)/(s/sqrt(n))\n",
        "t"
      ]
    },
    {
      "cell_type": "code",
      "execution_count": 19,
      "metadata": {
        "colab": {
          "base_uri": "https://localhost:8080/"
        },
        "id": "QVGfzZ9e8god",
        "outputId": "6dbab387-9664-4ff0-cb2b-a8a9b925daf6"
      },
      "outputs": [
        {
          "name": "stdout",
          "output_type": "stream",
          "text": [
            "Valor-p: 0.9266721769658998\n"
          ]
        }
      ],
      "source": [
        "alpha_hat = scipy.stats.t.cdf(t, n-1)\n",
        "\n",
        "print(f\"Valor-p: {alpha_hat}\")"
      ]
    },
    {
      "cell_type": "markdown",
      "metadata": {
        "id": "fwQ2k338la-h"
      },
      "source": [
        "Exerc ́ıcio 5. A vida m ́edia de uma amostra de 100 lˆampadas de\n",
        "certa marca  ́e de 1615 horas. Por similaridade com outros proces-\n",
        "sos de fabrica ̧c ̃ao, supomos o desvio padr ̃ao  ́e igual a 120 horas.\n",
        "Utilizando-se um n ́ıvel de significˆancia igual a 5%, desejamos testar\n",
        "se a dura ̧c ̃ao m ́edia de todas as lˆampadas dessa marca  ́e igual ou  ́e\n",
        "diferente de 1600 horas. Qual  ́e a conclus ̃ao?"
      ]
    },
    {
      "cell_type": "code",
      "execution_count": 20,
      "metadata": {
        "colab": {
          "base_uri": "https://localhost:8080/"
        },
        "id": "V60zCjNPyFyX",
        "outputId": "0d41b957-aff2-492b-963b-1df675f01ad6"
      },
      "outputs": [
        {
          "data": {
            "text/plain": [
              "1.25"
            ]
          },
          "execution_count": 20,
          "metadata": {},
          "output_type": "execute_result"
        }
      ],
      "source": [
        "n = 100\n",
        "x = 1615\n",
        "sd = 120\n",
        "u = 1600\n",
        "\n",
        "z = (x - u)/(sd/sqrt(n))\n",
        "z"
      ]
    },
    {
      "cell_type": "code",
      "execution_count": 21,
      "metadata": {
        "colab": {
          "base_uri": "https://localhost:8080/"
        },
        "id": "nm1EjawdzAx2",
        "outputId": "b0845ca8-f2da-40e6-dcdb-65e329121a7c"
      },
      "outputs": [
        {
          "name": "stdout",
          "output_type": "stream",
          "text": [
            "Valor-p: 0.2112995473337107\n"
          ]
        }
      ],
      "source": [
        "alpha_hat = 2 * sss.norm.cdf(-z,0,1)\n",
        "\n",
        "print(f\"Valor-p: {alpha_hat}\")"
      ]
    },
    {
      "cell_type": "markdown",
      "metadata": {
        "id": "ri3YE_YE2Wh_"
      },
      "source": [
        "Está fora da regiao critica de 5% então ela é igual a 1600 horas de duração"
      ]
    },
    {
      "cell_type": "markdown",
      "metadata": {
        "id": "7czQL7Ii2mbY"
      },
      "source": [
        "Exerc ́ıcio 6. O n ́umero de pontos de um exame de inglˆes tem sido\n",
        "historicamente ao redor de 80. Sorteamos 10 estudantes que fizeram\n",
        "recentemente esse exame e observamos as notas: 65, 74, 78, 86, 59,\n",
        "84, 75, 72, 81 e 83. Especialistas desconfiam que a m ́edia diminuiu e\n",
        "desejam testar essa afirma ̧c ̃ao atrav ́es de um teste de hip ́oteses, com\n",
        "n ́ıvel de significˆancia de 5%. Fazendo as suposi ̧c ̃oes necess ́arias qual\n",
        "seria a conclus ̃ao do teste? Quais suposi ̧c ̃oes s ̃ao necess ́arias para a\n",
        "realiza ̧c ̃ao do teste realizado?"
      ]
    },
    {
      "cell_type": "code",
      "execution_count": 22,
      "metadata": {
        "id": "WUvduwZf2iEx"
      },
      "outputs": [],
      "source": [
        "x = np.array([ 65, 74, 78, 86, 59, 84, 75, 72, 81, 83])\n",
        "\n",
        "n = 10\n",
        "u = 80\n",
        "s = np.std(x)\n",
        "\n",
        "ma = x.mean()"
      ]
    },
    {
      "cell_type": "code",
      "execution_count": 23,
      "metadata": {
        "colab": {
          "base_uri": "https://localhost:8080/"
        },
        "id": "8usUa9Q23IR2",
        "outputId": "b17291aa-d608-435c-b1ea-a7900ede63c3"
      },
      "outputs": [
        {
          "data": {
            "text/plain": [
              "-1.6586376061471393"
            ]
          },
          "execution_count": 23,
          "metadata": {},
          "output_type": "execute_result"
        }
      ],
      "source": [
        "t = (ma - u)/(s/sqrt(n))\n",
        "t"
      ]
    },
    {
      "cell_type": "code",
      "execution_count": 24,
      "metadata": {
        "colab": {
          "base_uri": "https://localhost:8080/"
        },
        "id": "40MeiIg42VHU",
        "outputId": "9d0b51c7-a624-4f83-be63-452686a18064"
      },
      "outputs": [
        {
          "name": "stdout",
          "output_type": "stream",
          "text": [
            "Valor-p: 0.06578182609483\n"
          ]
        }
      ],
      "source": [
        "alpha_hat = scipy.stats.t.cdf(t,n-1)\n",
        "print(f\"Valor-p: {alpha_hat}\")"
      ]
    },
    {
      "cell_type": "code",
      "execution_count": null,
      "metadata": {
        "id": "dw7qz2vv4QFS"
      },
      "outputs": [],
      "source": []
    },
    {
      "cell_type": "code",
      "execution_count": 25,
      "metadata": {
        "colab": {
          "base_uri": "https://localhost:8080/"
        },
        "id": "ZbKQUtEe0fGV",
        "outputId": "f0018e33-2035-4f8f-c1c4-158c5e5cca76"
      },
      "outputs": [
        {
          "data": {
            "text/plain": [
              "64.97182758171289"
            ]
          },
          "execution_count": 25,
          "metadata": {},
          "output_type": "execute_result"
        }
      ],
      "source": [
        "scipy.stats.t.ppf(0.05, n - 1, loc = u, scale = s)  # =>  99.23452406698323"
      ]
    },
    {
      "cell_type": "markdown",
      "metadata": {
        "id": "gOdhelmr5uKc"
      },
      "source": [
        "Exerc ́ıcio 7. Um criador tem constatado uma propor ̧c ̃ao de 10% do\n",
        "rebanho com verminose. O veterin ́ario alterou a dieta dos animais\n",
        "e acredita que a doen ̧ca diminuiu de intensidade. Um exame em\n",
        "100 cabe ̧cas do rebanho, escolhidas ao acaso, indicou 8 delas com\n",
        "verminose. Ao n ́ıvel de significˆancia de 8%, h ́a ind ́ıcios de que a\n",
        "propor ̧c ̃ao diminuiu?"
      ]
    },
    {
      "cell_type": "code",
      "execution_count": 26,
      "metadata": {
        "id": "1yonqCum9zwy"
      },
      "outputs": [],
      "source": [
        "# se nao dá o desvio padrao, desconfiar da binomial\n",
        "# na verdade tem que usar a p = p0\n",
        "\n",
        "# p é a media amostral e p0 é media esperada \n"
      ]
    },
    {
      "cell_type": "code",
      "execution_count": 27,
      "metadata": {
        "id": "QxOqBVLu5uvo"
      },
      "outputs": [],
      "source": [
        "n = 100\n",
        "p = 0.08\n",
        "p0 = 0.1\n",
        "q0 = 1 - p0 \n",
        "\n",
        "z = (p - p0)/sqrt((p0*q0)/n)"
      ]
    },
    {
      "cell_type": "code",
      "execution_count": 28,
      "metadata": {
        "colab": {
          "base_uri": "https://localhost:8080/"
        },
        "id": "7f5Nh6kdw9Cm",
        "outputId": "e51fa367-96cd-42e2-e22e-be9c1b14a2b3"
      },
      "outputs": [
        {
          "data": {
            "text/plain": [
              "-0.6666666666666667"
            ]
          },
          "execution_count": 28,
          "metadata": {},
          "output_type": "execute_result"
        }
      ],
      "source": [
        "z"
      ]
    },
    {
      "cell_type": "code",
      "execution_count": 29,
      "metadata": {
        "colab": {
          "base_uri": "https://localhost:8080/"
        },
        "id": "QnVkFhmCxLpc",
        "outputId": "2008862f-e617-4c58-fff5-f31c2cd9eb97"
      },
      "outputs": [
        {
          "name": "stdout",
          "output_type": "stream",
          "text": [
            "Valor-p: 0.25249253754692286\n"
          ]
        }
      ],
      "source": [
        "alpha_hat = sss.norm.cdf(z,0,1)\n",
        "\n",
        "print(f\"Valor-p: {alpha_hat}\")"
      ]
    },
    {
      "cell_type": "code",
      "execution_count": 30,
      "metadata": {
        "id": "ISISRwCD57ws"
      },
      "outputs": [],
      "source": [
        "# t = (ma - u)/(s/sqrt(n))\n",
        "# t"
      ]
    },
    {
      "cell_type": "markdown",
      "metadata": {
        "id": "kqRvioWG7CLb"
      },
      "source": [
        "Exerc ́ıcio 9. O consumidor de um certo produto acusou o fabri-\n",
        "cante, dizendo que mais de 20% das unidades fabricadas apresentam\n",
        "defeito. Para confirmar sua acusa ̧c ̃ao, ele usou uma amostra de ta-\n",
        "manho 50, onde 27% das pe ̧cas eram defeituosas. Mostre como o\n",
        "fabricante poderia refutar a acusa ̧c ̃ao. Utilize um n ́ıvel de signi-\n",
        "ficˆancia de 10%"
      ]
    },
    {
      "cell_type": "code",
      "execution_count": 31,
      "metadata": {
        "colab": {
          "base_uri": "https://localhost:8080/"
        },
        "id": "2sntucSt7Wp3",
        "outputId": "2ff69dab-3a79-4184-92e5-e332cdebb596"
      },
      "outputs": [
        {
          "data": {
            "text/plain": [
              "1.2374368670764582"
            ]
          },
          "execution_count": 31,
          "metadata": {},
          "output_type": "execute_result"
        }
      ],
      "source": [
        "n = 50\n",
        "p = 0.27\n",
        "p0 = 0.2\n",
        "q0 = 1 - p0 \n",
        "\n",
        "z = (p - p0)/sqrt((p0*q0)/n)\n",
        "z"
      ]
    },
    {
      "cell_type": "code",
      "execution_count": 32,
      "metadata": {
        "colab": {
          "base_uri": "https://localhost:8080/"
        },
        "id": "se19mTU0zQJe",
        "outputId": "00b82966-a475-4086-ed49-fbadf1a25419"
      },
      "outputs": [
        {
          "name": "stdout",
          "output_type": "stream",
          "text": [
            "Valor-p: 0.2159249389401403\n"
          ]
        }
      ],
      "source": [
        "alpha_hat = 2* sss.norm.cdf(-z,0,1)\n",
        "\n",
        "print(f\"Valor-p: {alpha_hat}\")"
      ]
    },
    {
      "cell_type": "markdown",
      "metadata": {
        "id": "-BPySpN2-OOO"
      },
      "source": [
        "Exerc ́ıcio 10. Diversos pol ́ıticos em rela ̧c ̃ao as filiais de uma rede\n",
        "de supermercados est ̃ao associados ao gasto m ́edio dos clientes em\n",
        "cada compra. Deseja-se comparar esse parˆametro para duas novas\n",
        "filiais, por meio de duas amostras de 50 clientes cada. As m ́edias\n",
        "obtidas foram de 62 e 71, respectivamente. Sabe-se que o desvio\n",
        "padr ̃ao, em ambos os casos, dever ser da ordem de 20 unidades.  ́E\n",
        "poss ́ıvel afirmar que o gasto m ́edio nas duas filiais seja o mesmo?\n",
        "Caso contr ́ario, dˆe um intervalo de confian ̧ca para a diferen ̧ca."
      ]
    },
    {
      "cell_type": "code",
      "execution_count": 33,
      "metadata": {
        "id": "ncXMmmyX4De8"
      },
      "outputs": [],
      "source": [
        "# duas populações\n",
        "# com desvio padrao igual"
      ]
    },
    {
      "cell_type": "code",
      "execution_count": 34,
      "metadata": {
        "id": "S7sJyfRv-Z0O"
      },
      "outputs": [],
      "source": [
        "n = 50\n",
        "ma1 = 62\n",
        "ma2 = 71\n",
        "sd = 20"
      ]
    }
  ],
  "metadata": {
    "colab": {
      "provenance": []
    },
    "kernelspec": {
      "display_name": "Python 3.11.0 64-bit",
      "language": "python",
      "name": "python3"
    },
    "language_info": {
      "codemirror_mode": {
        "name": "ipython",
        "version": 3
      },
      "file_extension": ".py",
      "mimetype": "text/x-python",
      "name": "python",
      "nbconvert_exporter": "python",
      "pygments_lexer": "ipython3",
      "version": "3.11.0"
    },
    "vscode": {
      "interpreter": {
        "hash": "5c7b89af1651d0b8571dde13640ecdccf7d5a6204171d6ab33e7c296e100e08a"
      }
    }
  },
  "nbformat": 4,
  "nbformat_minor": 0
}
