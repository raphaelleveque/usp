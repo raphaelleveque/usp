{
  "cells": [
    {
      "cell_type": "markdown",
      "metadata": {
        "id": "vPfWk3p4oxkG"
      },
      "source": [
        "Documentação: https://docs.scipy.org/doc/scipy/tutorial/stats/discrete.html"
      ]
    },
    {
      "cell_type": "code",
      "execution_count": 126,
      "metadata": {
        "id": "K_kXiaVO2GLI"
      },
      "outputs": [],
      "source": [
        "import scipy.stats\n",
        "import numpy as np\n",
        "import statistics"
      ]
    },
    {
      "cell_type": "markdown",
      "metadata": {
        "id": "t3bjsShnZEx1"
      },
      "source": [
        "## Exercício 01"
      ]
    },
    {
      "cell_type": "code",
      "execution_count": 127,
      "metadata": {
        "colab": {
          "base_uri": "https://localhost:8080/"
        },
        "id": "uNVgzJSGZG_C",
        "outputId": "92ecd898-eeac-4635-ea17-f89b6544f7db"
      },
      "outputs": [
        {
          "name": "stdout",
          "output_type": "stream",
          "text": [
            "0.04039728314361033\n"
          ]
        }
      ],
      "source": [
        "# Geralmente, quando não há reposição é Hipergeométrica\n",
        "# Usa-se essa distribuição quando parece ser uma combinaçao\n",
        "\n",
        "print(scipy.stats.hypergeom.pmf(1,195,9,5) * scipy.stats.hypergeom.pmf(1,200,10,5))"
      ]
    },
    {
      "cell_type": "markdown",
      "metadata": {
        "id": "3CCpkNYSZk7O"
      },
      "source": [
        "## Exercício 02"
      ]
    },
    {
      "cell_type": "markdown",
      "metadata": {
        "id": "-jbyQK8AZsRw"
      },
      "source": [
        "Calculando a distribuição do número de caras:"
      ]
    },
    {
      "cell_type": "code",
      "execution_count": 128,
      "metadata": {
        "colab": {
          "base_uri": "https://localhost:8080/"
        },
        "id": "cyJCsrvg86A-",
        "outputId": "70815378-6d17-4e41-c07c-74720dde0154"
      },
      "outputs": [
        {
          "name": "stdout",
          "output_type": "stream",
          "text": [
            "[0.15258789 0.36621094 0.32958984 0.13183594 0.01977539]\n"
          ]
        }
      ],
      "source": [
        "# range(0,5) significa 0 caras, 1 cara, 2 caras, 3 caras ou 4 caras\n",
        "# ou seja, em 4 lancamentos, podemos ter de 0 a 4 caras\n",
        "print(scipy.stats.binom.pmf(range(0,5),4,3/8))"
      ]
    },
    {
      "cell_type": "code",
      "execution_count": 129,
      "metadata": {
        "colab": {
          "base_uri": "https://localhost:8080/"
        },
        "id": "ny_wFsLV9NM_",
        "outputId": "6b193d44-aa13-4915-e363-838d357a3c3f"
      },
      "outputs": [
        {
          "data": {
            "text/plain": [
              "0.019775390625"
            ]
          },
          "execution_count": 129,
          "metadata": {},
          "output_type": "execute_result"
        }
      ],
      "source": [
        "(3/8)**4"
      ]
    },
    {
      "cell_type": "code",
      "execution_count": 130,
      "metadata": {
        "id": "zPcQu7PB9lDf"
      },
      "outputs": [],
      "source": [
        "# Px entao é a distribuicao do numero dec caras\n",
        "Px = scipy.stats.binom.pmf(range(0,5),4,3/8)"
      ]
    },
    {
      "cell_type": "markdown",
      "metadata": {
        "id": "fqLepYMqZ3fN"
      },
      "source": [
        "Obtendo a distribuição de $W$:"
      ]
    },
    {
      "cell_type": "code",
      "execution_count": 131,
      "metadata": {
        "colab": {
          "base_uri": "https://localhost:8080/"
        },
        "id": "byVM0YTc9m9-",
        "outputId": "31ae297b-bd22-441d-f341-514e873b0d0c"
      },
      "outputs": [
        {
          "name": "stdout",
          "output_type": "stream",
          "text": [
            "[0.17236328125, 0.49804687499999994, 0.3295898437500001]\n"
          ]
        }
      ],
      "source": [
        "# W é a multiplicacao de Caras e coroas\n",
        "'''\n",
        "0C 4K = 0\n",
        "1C 3K = 3\n",
        "2C 2K = 4\n",
        "3C 1K = 3\n",
        "4C 0K = 0\n",
        "\n",
        "Px[i] = i caras\n",
        "'''\n",
        "# Sendo assim, montando a distribuiçao de probabilidades de W, usando as probabilidades de Px\n",
        "# temos apenas 3 casos, já que w pode ser ou 0, ou 3 ou 4\n",
        "Pw = [Px[0] + Px[4],Px[1] + Px[3],Px[2]]\n",
        "print(Pw)"
      ]
    },
    {
      "cell_type": "markdown",
      "metadata": {
        "id": "dm89ysivZ_6p"
      },
      "source": [
        "Calculando $E[W]$: <br>\n",
        "Obs: $E[W] = \\Sigma_{i = 1}^{n} w_i \\cdot p_i$"
      ]
    },
    {
      "cell_type": "code",
      "execution_count": 132,
      "metadata": {
        "colab": {
          "base_uri": "https://localhost:8080/"
        },
        "id": "ra56UhHY-ez3",
        "outputId": "7b1182f0-4227-4795-d9f6-359a1edd2dec"
      },
      "outputs": [
        {
          "name": "stdout",
          "output_type": "stream",
          "text": [
            "2.8125\n"
          ]
        }
      ],
      "source": [
        "'''\n",
        "Esperança de W pega os valores de w_i * p_i\n",
        "\n",
        "w = 0 -> p = Pw[0]\n",
        "w = 3 -> p = Pw[1]\n",
        "w = 4 -> p = Pw[2]\n",
        "'''\n",
        "ew = 0*Pw[0] + 3*Pw[1] + 4*Pw[2]\n",
        "print(ew)"
      ]
    },
    {
      "cell_type": "markdown",
      "metadata": {
        "id": "oGR_ugFBaEbQ"
      },
      "source": [
        "Calculando $Var[W]$ usando $E[W^2] - (E[W])^2$:"
      ]
    },
    {
      "cell_type": "code",
      "execution_count": 133,
      "metadata": {
        "id": "ETar1bzc-wUG"
      },
      "outputs": [],
      "source": [
        "# No E[W^2], a probabilidade permanece a mesma, o que muda é apenas o w_i, que vira w_i**2\n",
        "ew2 = 0*Pw[0] + 9*Pw[1] + 16*Pw[2]"
      ]
    },
    {
      "cell_type": "code",
      "execution_count": 134,
      "metadata": {
        "colab": {
          "base_uri": "https://localhost:8080/"
        },
        "id": "21u5yPjF-3uG",
        "outputId": "faf6a41c-70ac-4927-ebbc-b2305b31c8c3"
      },
      "outputs": [
        {
          "name": "stdout",
          "output_type": "stream",
          "text": [
            "1.845703125\n"
          ]
        }
      ],
      "source": [
        "varw = ew2 - ew**2\n",
        "print(varw)"
      ]
    },
    {
      "cell_type": "markdown",
      "metadata": {
        "id": "2Lic9OgRaV7q"
      },
      "source": [
        "Calculando $Var[W]$ usando $E[(W - E[W])^2]$:"
      ]
    },
    {
      "cell_type": "code",
      "execution_count": 135,
      "metadata": {
        "colab": {
          "base_uri": "https://localhost:8080/"
        },
        "id": "x5DGZj2Y-_Rv",
        "outputId": "3baf50d5-90e8-41eb-8e3a-08d7ab57769c"
      },
      "outputs": [
        {
          "name": "stdout",
          "output_type": "stream",
          "text": [
            "1.8457031250000002\n"
          ]
        }
      ],
      "source": [
        "varbis = (0-ew)**2*Pw[0] + (3-ew)**2*Pw[1] + (4-ew)**2*Pw[2]\n",
        "print(varbis)"
      ]
    },
    {
      "cell_type": "markdown",
      "metadata": {},
      "source": [
        "### Versao do Otavio"
      ]
    },
    {
      "cell_type": "code",
      "execution_count": 136,
      "metadata": {},
      "outputs": [
        {
          "name": "stdout",
          "output_type": "stream",
          "text": [
            "[0.152587890625, 0.3662109375, 0.3295898437500001, 0.13183593749999994, 0.019775390625]\n",
            "3\n"
          ]
        }
      ],
      "source": [
        "# num de caras multiplicado pelo num de coroas\n",
        "\n",
        "# binomial \n",
        "\n",
        "# 0 1 2 3 4 caras\n",
        "\n",
        "# 0 3 4 3 0 valores possiveis\n",
        "probs = []\n",
        "for i in range (0,5):\n",
        "  probs.append(scipy.stats.binom.pmf(i,4,0.375))  # (primeiro arg é a variavel discreta, a segunda a qauntitade de amostras e a terceira a probabilidade) acumulada\n",
        "\n",
        "print(probs)\n",
        "\n",
        "# calculando a esperança\n",
        "hope = 0\n",
        "values_poss = [0,3,4,3,0]\n",
        "for i in range (0,5):\n",
        "  hope += values_poss[i]*probs[i]\n",
        "\n",
        "\n",
        "# calcular variancia\n",
        "\n",
        "var = 0\n",
        "values_poss = [0,3,4,3,0]\n",
        "for i in range (0,5):\n",
        "  var += ((values_poss[i] - hope)**2)*probs[i]\n",
        "\n",
        "\n",
        "# encontrando a mediana\n",
        "# Construindo uma distribuicao de probabilidade acumulada, ou seja:\n",
        "''' \n",
        "0C 4K = 0\n",
        "1C 3K = 3\n",
        "2C 2K = 4\n",
        "3C 1K = 3\n",
        "4C 0K = 0\n",
        "\n",
        "w = 0 -> probs[0] + probs[4]\n",
        "w = 3 -> probs[1] + probs[3]\n",
        "w = 4 -> probs[2]\n",
        "'''\n",
        "# Queremos construir uma funcao de distribuicao acumulada, para saber em qual w_i a probabilidade passa de 50%\n",
        "values_poss = [0, 3, 4]\n",
        "probs[0] = probs[0] + probs[4]\n",
        "probs[1] = probs[0] + probs[1] + probs[3]\n",
        "probs[2] = probs[1] + probs[2]\n",
        "del probs[3:]\n",
        "'''\n",
        "w = 0 -> p = 0.1\n",
        "w = 3 -> p = 0.4\n",
        "w = 4 -> p = 1\n",
        "'''\n",
        "\n",
        "# Aqui eu encontro qual a mediana do meu vetor de probabilidade, e encontro qual índice dessa mediana\n",
        "median_index = (probs.index(statistics.median(probs)))\n",
        "# Agora, pegaremos esse índice e printaremos a mediana, usando a lista values_poss\n",
        "print(values_poss[median_index])\n",
        "# a mediana é a var disceta que tem a probabilidade acumulada >= 50%"
      ]
    },
    {
      "cell_type": "markdown",
      "metadata": {
        "id": "K46Hi4eXcfJh"
      },
      "source": [
        "## Exercício 03"
      ]
    },
    {
      "cell_type": "markdown",
      "metadata": {},
      "source": [
        "Calculando a esperança:"
      ]
    },
    {
      "cell_type": "code",
      "execution_count": 137,
      "metadata": {},
      "outputs": [],
      "source": [
        "# para um componente: 10 falhas a cada 300 horas = 10/300 falhas/hora, ou 0.033333\n",
        "# para cinco componentes: 5 * 10/300 falhas/hora\n",
        "# para 75 horas: 75 * 5 * 10/300 falhas = 12.5 falhas em 75 horas para 5 componentes\n",
        "# portanto a esperança é 12.5 falhas"
      ]
    },
    {
      "cell_type": "markdown",
      "metadata": {
        "id": "oiA-hs_2a-8C"
      },
      "source": [
        "Alguns valores de da distribuição $W$:"
      ]
    },
    {
      "cell_type": "code",
      "execution_count": 139,
      "metadata": {
        "colab": {
          "base_uri": "https://localhost:8080/"
        },
        "id": "k1QWuRsIDmxX",
        "outputId": "069b3e98-0373-4912-fa95-b14cc273dcf3"
      },
      "outputs": [
        {
          "name": "stdout",
          "output_type": "stream",
          "text": [
            "[3.72665317e-06 4.65831647e-05 2.91144779e-04 1.21310325e-03\n",
            " 3.79094764e-03 9.47736911e-03 1.97445190e-02 3.52580696e-02\n",
            " 5.50907338e-02 7.65149080e-02 9.56436350e-02 1.08685949e-01\n",
            " 1.13214530e-01 1.08860125e-01 9.71965402e-02 8.09971169e-02\n",
            " 6.32789975e-02 4.65286747e-02 3.23115796e-02 2.12576182e-02\n",
            " 1.32860114e-02 7.90834010e-03 4.49337505e-03 2.44205166e-03\n",
            " 1.27190191e-03 6.35950953e-04 3.05745651e-04 1.41548912e-04\n",
            " 6.31914787e-05 2.72377063e-05 1.13490443e-05 4.57622754e-06\n",
            " 1.78758888e-06 6.77117002e-07 2.48940074e-07 8.89071693e-08\n",
            " 3.08705449e-08 1.04292381e-08 3.43067044e-09 1.09957386e-09\n",
            " 3.43616831e-10 1.04761229e-10 3.11789372e-11 9.06364454e-12\n",
            " 2.57489902e-12 7.15249727e-13 1.94361339e-13 5.16918454e-14\n",
            " 1.34614181e-14 3.43403522e-15]\n"
          ]
        }
      ],
      "source": [
        "Pw = scipy.stats.poisson.pmf(range(0,50),12.5)\n",
        "print(Pw)"
      ]
    },
    {
      "cell_type": "markdown",
      "metadata": {
        "id": "B9Rnomigbb8T"
      },
      "source": [
        "Uma intuição de que realmente $E[W] = λ_W$:"
      ]
    },
    {
      "cell_type": "code",
      "execution_count": 140,
      "metadata": {
        "colab": {
          "base_uri": "https://localhost:8080/"
        },
        "id": "PNd7ArDZEfqe",
        "outputId": "882c7ec1-979b-45bb-d55e-9c8fe8010ab9"
      },
      "outputs": [
        {
          "name": "stdout",
          "output_type": "stream",
          "text": [
            "12.499999999999972\n"
          ]
        }
      ],
      "source": [
        "ew = 0\n",
        "for w in range(0,50):\n",
        "    ew += w * Pw[w]\n",
        "print(ew)"
      ]
    },
    {
      "cell_type": "markdown",
      "metadata": {
        "id": "3yZ-OSqRbpQB"
      },
      "source": [
        "Uma intuição de que realmente $Var[W] = λ_W$:"
      ]
    },
    {
      "cell_type": "code",
      "execution_count": 141,
      "metadata": {
        "colab": {
          "base_uri": "https://localhost:8080/"
        },
        "id": "MEq0Lp0wExJa",
        "outputId": "0a88389a-4989-4210-c635-1efd72bbac84"
      },
      "outputs": [
        {
          "name": "stdout",
          "output_type": "stream",
          "text": [
            "12.499999999998394\n"
          ]
        }
      ],
      "source": [
        "varw = 0\n",
        "for w in range(0,50):\n",
        "    varw += (w - ew)**2 * Pw[w]\n",
        "print(varw)"
      ]
    },
    {
      "cell_type": "markdown",
      "metadata": {},
      "source": [
        "Valor mais provável de W:"
      ]
    },
    {
      "cell_type": "code",
      "execution_count": 162,
      "metadata": {},
      "outputs": [
        {
          "data": {
            "text/plain": [
              "0.11321453006756854"
            ]
          },
          "execution_count": 162,
          "metadata": {},
          "output_type": "execute_result"
        }
      ],
      "source": [
        "# Já que a esperança de W é 12.5, seu valor mais provável é 12\n",
        "# P(W = 12):\n",
        "# Obs: Usando pmf eu sei a probabilidade quando W = 12, usando cdf eu sei a probabilidade de W <= 12\n",
        "scipy.stats.poisson.pmf(12,12.5)\n"
      ]
    },
    {
      "cell_type": "markdown",
      "metadata": {
        "id": "LKyzZtDjbuAs"
      },
      "source": [
        "Dsitribuição acumulada de $W$:"
      ]
    },
    {
      "cell_type": "code",
      "execution_count": 160,
      "metadata": {},
      "outputs": [
        {
          "name": "stdout",
          "output_type": "stream",
          "text": [
            "[0.000 0.000 0.000 0.002 0.005 0.015 0.035 0.070 0.125 0.201 0.297 0.406\n",
            " 0.519 0.628 0.725 0.806 0.869 0.916 0.948 0.969 0.983 0.991 0.995 0.998\n",
            " 0.999 0.999 1.000 1.000 1.000 1.000 1.000 1.000 1.000 1.000 1.000 1.000\n",
            " 1.000 1.000 1.000 1.000 1.000 1.000 1.000 1.000 1.000 1.000 1.000 1.000\n",
            " 1.000 1.000]\n"
          ]
        }
      ],
      "source": [
        "cumulative_poisson = scipy.stats.poisson.cdf(range(0,50),12.5)\n",
        "# Isso printa com 3 casas decimais\n",
        "np.set_printoptions(formatter={'float': lambda x: \"{0:0.3f}\".format(x)})\n",
        "print(cumulative_poisson)"
      ]
    },
    {
      "cell_type": "markdown",
      "metadata": {},
      "source": [
        "Acima é preciso encontrar o primeiro valor maior do que $0.5$ para saber a mediana. Nesse caso, o $12^o$ valor é o primeiro valor acima de 0.5, que é 0.519"
      ]
    },
    {
      "cell_type": "code",
      "execution_count": 158,
      "metadata": {
        "colab": {
          "base_uri": "https://localhost:8080/"
        },
        "id": "EltpMlF3FBC1",
        "outputId": "68e16ea1-bc1c-44c8-ab8b-9645859c86f6"
      },
      "outputs": [
        {
          "name": "stdout",
          "output_type": "stream",
          "text": [
            "12\n"
          ]
        }
      ],
      "source": [
        "for i, j in zip(cumulative_poisson, range(50)):\n",
        "    if i > 0.5:\n",
        "        print(j)\n",
        "        break"
      ]
    },
    {
      "cell_type": "markdown",
      "metadata": {
        "id": "kJO5e6IGb0ni"
      },
      "source": [
        "Abaixo a mediana sai mais rápido:"
      ]
    },
    {
      "cell_type": "code",
      "execution_count": 143,
      "metadata": {
        "colab": {
          "base_uri": "https://localhost:8080/"
        },
        "id": "Kbw2yLbCF-pW",
        "outputId": "a0e99b2c-d96f-41d7-97a1-021629247d9e"
      },
      "outputs": [
        {
          "data": {
            "text/plain": [
              "12.0"
            ]
          },
          "execution_count": 143,
          "metadata": {},
          "output_type": "execute_result"
        }
      ],
      "source": [
        "scipy.stats.poisson.ppf(0.5,12.5)"
      ]
    },
    {
      "cell_type": "markdown",
      "metadata": {
        "id": "8YAY0ZmdcRdd"
      },
      "source": [
        "## Exercício 04"
      ]
    },
    {
      "cell_type": "code",
      "execution_count": 144,
      "metadata": {
        "colab": {
          "base_uri": "https://localhost:8080/"
        },
        "id": "lVMjYJwGHjGm",
        "outputId": "2504aecf-ca35-4bc6-9c58-c7fccdf52e57"
      },
      "outputs": [
        {
          "name": "stdout",
          "output_type": "stream",
          "text": [
            "0.08045960674953244\n"
          ]
        }
      ],
      "source": [
        "print(scipy.stats.poisson.pmf(0,1.4) * scipy.stats.poisson.pmf(0,1.12))"
      ]
    },
    {
      "cell_type": "code",
      "execution_count": 145,
      "metadata": {
        "colab": {
          "base_uri": "https://localhost:8080/"
        },
        "id": "qUzDG8hYHw_l",
        "outputId": "b0c38fbd-b4cf-423a-f420-61156ba32c74"
      },
      "outputs": [
        {
          "name": "stdout",
          "output_type": "stream",
          "text": [
            "0.08045960674953244\n"
          ]
        }
      ],
      "source": [
        "print(np.exp(-2.52))"
      ]
    },
    {
      "cell_type": "code",
      "execution_count": 146,
      "metadata": {
        "colab": {
          "base_uri": "https://localhost:8080/"
        },
        "id": "AEgw4bH1H5sG",
        "outputId": "b12a586e-68f4-4c5b-e036-96bb8c1e8fad"
      },
      "outputs": [
        {
          "name": "stdout",
          "output_type": "stream",
          "text": [
            "0.0883124643682868\n"
          ]
        }
      ],
      "source": [
        "print(scipy.stats.poisson.pmf(2,1.4) * scipy.stats.poisson.pmf(1,1.12))"
      ]
    },
    {
      "cell_type": "markdown",
      "metadata": {
        "id": "Y3muRJmodCJa"
      },
      "source": [
        "### Turma 01:"
      ]
    },
    {
      "cell_type": "markdown",
      "metadata": {
        "id": "ZFpGbnILdFQM"
      },
      "source": [
        "Vendo os primeiros valores da somatória:"
      ]
    },
    {
      "cell_type": "code",
      "execution_count": 147,
      "metadata": {
        "colab": {
          "base_uri": "https://localhost:8080/"
        },
        "id": "Z_hxkZFVKh_N",
        "outputId": "cd9283b0-6fdc-4633-f97e-b12fd334b46a"
      },
      "outputs": [
        {
          "name": "stdout",
          "output_type": "stream",
          "text": [
            "0.24582018787350704\n"
          ]
        }
      ],
      "source": [
        "print((1 - scipy.stats.poisson.cdf(0,1.4)) * scipy.stats.poisson.pmf(0,1.12))"
      ]
    },
    {
      "cell_type": "code",
      "execution_count": 148,
      "metadata": {
        "colab": {
          "base_uri": "https://localhost:8080/"
        },
        "id": "yrnX1T-JK7V1",
        "outputId": "4775bbd3-a093-4847-ee13-3797db1456b4"
      },
      "outputs": [
        {
          "name": "stdout",
          "output_type": "stream",
          "text": [
            "0.14915794703506097\n"
          ]
        }
      ],
      "source": [
        "print((1 - scipy.stats.poisson.cdf(1,1.4)) * scipy.stats.poisson.pmf(1,1.12))"
      ]
    },
    {
      "cell_type": "code",
      "execution_count": 149,
      "metadata": {
        "colab": {
          "base_uri": "https://localhost:8080/"
        },
        "id": "i_msh8DeK_PG",
        "outputId": "15cfdf78-ab4e-4d51-9b74-30ca3faa46d5"
      },
      "outputs": [
        {
          "name": "stdout",
          "output_type": "stream",
          "text": [
            "0.03407347029339359\n"
          ]
        }
      ],
      "source": [
        "print((1 - scipy.stats.poisson.cdf(2,1.4)) * scipy.stats.poisson.pmf(2,1.12))"
      ]
    },
    {
      "cell_type": "code",
      "execution_count": 150,
      "metadata": {
        "colab": {
          "base_uri": "https://localhost:8080/"
        },
        "id": "vkQKGul9LDIf",
        "outputId": "13575780-0b7d-4881-bd67-db5685f0205b"
      },
      "outputs": [
        {
          "name": "stdout",
          "output_type": "stream",
          "text": [
            "0.004104605719255237\n"
          ]
        }
      ],
      "source": [
        "print((1 - scipy.stats.poisson.cdf(3,1.4)) * scipy.stats.poisson.pmf(3,1.12))"
      ]
    },
    {
      "cell_type": "markdown",
      "metadata": {
        "id": "vDx1_mLVdSCh"
      },
      "source": [
        "Fazendo aproximação da somatória:"
      ]
    },
    {
      "cell_type": "code",
      "execution_count": 151,
      "metadata": {
        "colab": {
          "base_uri": "https://localhost:8080/"
        },
        "id": "FDVWh1HdLGaG",
        "outputId": "842c81af-c019-4408-e4e1-5e32d07f7cb4"
      },
      "outputs": [
        {
          "name": "stdout",
          "output_type": "stream",
          "text": [
            "0.4334770286856959\n"
          ]
        }
      ],
      "source": [
        "soma = 0\n",
        "for w in range(0,50):\n",
        "    soma += (1 - scipy.stats.poisson.cdf(w,1.4)) * scipy.stats.poisson.pmf(w,1.12)\n",
        "print(soma)"
      ]
    },
    {
      "cell_type": "markdown",
      "metadata": {
        "id": "pmM47O-3dXji"
      },
      "source": [
        "### Turma 02"
      ]
    },
    {
      "cell_type": "markdown",
      "metadata": {
        "id": "BRj2kUwwdZRQ"
      },
      "source": [
        "Vendo os primeiros valores da somatória:"
      ]
    },
    {
      "cell_type": "code",
      "execution_count": 152,
      "metadata": {
        "colab": {
          "base_uri": "https://localhost:8080/"
        },
        "id": "-BtBVM8PkTfK",
        "outputId": "34627136-184a-4923-c572-5b10e7039529"
      },
      "outputs": [
        {
          "name": "stdout",
          "output_type": "stream",
          "text": [
            "0.11264344944934539\n"
          ]
        }
      ],
      "source": [
        "print(scipy.stats.poisson.cdf(0,1.12) * scipy.stats.poisson.pmf(1,1.4))"
      ]
    },
    {
      "cell_type": "code",
      "execution_count": 153,
      "metadata": {
        "colab": {
          "base_uri": "https://localhost:8080/"
        },
        "id": "13hM4TaGkmYD",
        "outputId": "a1c39dd1-0063-43f0-f6ad-dae09a497666"
      },
      "outputs": [
        {
          "name": "stdout",
          "output_type": "stream",
          "text": [
            "0.16716287898282858\n"
          ]
        }
      ],
      "source": [
        "print(scipy.stats.poisson.cdf(1,1.12) * scipy.stats.poisson.pmf(2,1.4))"
      ]
    },
    {
      "cell_type": "code",
      "execution_count": 154,
      "metadata": {
        "colab": {
          "base_uri": "https://localhost:8080/"
        },
        "id": "pTuhujPTk3cv",
        "outputId": "4186b806-62cb-458b-a424-cbffdd70c3c1"
      },
      "outputs": [
        {
          "name": "stdout",
          "output_type": "stream",
          "text": [
            "0.10108833421356564\n"
          ]
        }
      ],
      "source": [
        "print(scipy.stats.poisson.cdf(2,1.12) * scipy.stats.poisson.pmf(3,1.4))"
      ]
    },
    {
      "cell_type": "markdown",
      "metadata": {
        "id": "halYX_nQdnT8"
      },
      "source": [
        "Fazendo aproximação da somatória:"
      ]
    },
    {
      "cell_type": "code",
      "execution_count": 155,
      "metadata": {
        "colab": {
          "base_uri": "https://localhost:8080/"
        },
        "id": "AMslUwi4kPrc",
        "outputId": "a9370301-3866-497e-c520-6b45b125291d"
      },
      "outputs": [
        {
          "name": "stdout",
          "output_type": "stream",
          "text": [
            "0.43347702868569593\n"
          ]
        }
      ],
      "source": [
        "p = 0\n",
        "for w in range(0,50):\n",
        "    p += scipy.stats.poisson.cdf(w,1.12) * scipy.stats.poisson.pmf(w+1,1.4)\n",
        "print(p)"
      ]
    }
  ],
  "metadata": {
    "colab": {
      "collapsed_sections": [
        "t3bjsShnZEx1",
        "3CCpkNYSZk7O",
        "K46Hi4eXcfJh",
        "8YAY0ZmdcRdd",
        "Y3muRJmodCJa",
        "pmM47O-3dXji"
      ],
      "provenance": []
    },
    "kernelspec": {
      "display_name": "Python 3.11.0 64-bit",
      "language": "python",
      "name": "python3"
    },
    "language_info": {
      "codemirror_mode": {
        "name": "ipython",
        "version": 3
      },
      "file_extension": ".py",
      "mimetype": "text/x-python",
      "name": "python",
      "nbconvert_exporter": "python",
      "pygments_lexer": "ipython3",
      "version": "3.11.0"
    },
    "vscode": {
      "interpreter": {
        "hash": "5c7b89af1651d0b8571dde13640ecdccf7d5a6204171d6ab33e7c296e100e08a"
      }
    }
  },
  "nbformat": 4,
  "nbformat_minor": 0
}
