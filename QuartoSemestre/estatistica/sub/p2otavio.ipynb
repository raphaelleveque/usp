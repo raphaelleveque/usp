{
  "cells": [
    {
      "cell_type": "code",
      "execution_count": 56,
      "metadata": {
        "id": "i_-gWKCy2wbP"
      },
      "outputs": [],
      "source": [
        "import scipy.stats\n",
        "import numpy as np"
      ]
    },
    {
      "cell_type": "code",
      "execution_count": 57,
      "metadata": {
        "id": "nunCVfun_5ep"
      },
      "outputs": [],
      "source": [
        "# ex 10"
      ]
    },
    {
      "cell_type": "code",
      "execution_count": 58,
      "metadata": {
        "colab": {
          "base_uri": "https://localhost:8080/"
        },
        "id": "Gw7r4GAp44b2",
        "outputId": "96e2d5f4-ffce-4908-db3a-21d731f6bd9f"
      },
      "outputs": [
        {
          "data": {
            "text/plain": [
              "0.015555497910407815"
            ]
          },
          "execution_count": 58,
          "metadata": {},
          "output_type": "execute_result"
        }
      ],
      "source": [
        "# pmf calcula a probabilidade daquela variavel discreta\n",
        "\n",
        "\n",
        "res = scipy.stats.poisson.pmf(2,7.5)  # (primeiro arg é a variavel discreta e a segunda a taxa média)\n",
        "res"
      ]
    },
    {
      "cell_type": "code",
      "execution_count": 59,
      "metadata": {
        "colab": {
          "base_uri": "https://localhost:8080/"
        },
        "id": "5QJYG2D-7dre",
        "outputId": "a0a23ece-9a35-4e41-a2a5-b65cec82a5f9"
      },
      "outputs": [
        {
          "data": {
            "text/plain": [
              "0.020256715056664387"
            ]
          },
          "execution_count": 59,
          "metadata": {},
          "output_type": "execute_result"
        }
      ],
      "source": [
        "# cdf calcula a probabilidade acumulada até daquela variavel discreta\n",
        "\n",
        "# poisson utilizar nas que falam de taxa, calcular a taxa etc\n",
        "\n",
        "res = scipy.stats.poisson.cdf(2,7.5)  # (primeiro arg é a variavel discreta e a segunda a taxa média)\n",
        "res"
      ]
    },
    {
      "cell_type": "code",
      "execution_count": 60,
      "metadata": {
        "colab": {
          "base_uri": "https://localhost:8080/"
        },
        "id": "ym48lRoo8rsn",
        "outputId": "7b35735a-ea16-4d9e-f23f-f98ef571d7af"
      },
      "outputs": [
        {
          "data": {
            "text/plain": [
              "0.47536147351239455"
            ]
          },
          "execution_count": 60,
          "metadata": {},
          "output_type": "execute_result"
        }
      ],
      "source": [
        "# cdf calcula a probabilidade acumulada até daquela variavel discreta\n",
        "\n",
        "res = scipy.stats.poisson.cdf(7,7.5)  # (primeiro arg é a variavel discreta e a segunda a taxa média)\n",
        "res2 = 1 - res\n",
        "res2"
      ]
    },
    {
      "cell_type": "code",
      "execution_count": 61,
      "metadata": {
        "colab": {
          "base_uri": "https://localhost:8080/"
        },
        "id": "wIrILfVE86fX",
        "outputId": "013b822b-7b05-47b5-f856-d16c0f802184"
      },
      "outputs": [
        {
          "name": "stdout",
          "output_type": "stream",
          "text": [
            "0.3758096384000002\n",
            "0.40600584970983794\n"
          ]
        }
      ],
      "source": [
        "# ex 15 não mais que 1 defeituoso seja encontrado\n",
        "res = scipy.stats.binom.cdf(1,10,0.2)  # (primeiro arg é a variavel discreta, a segunda a qauntitade de amostras e a terceira a probabilidade) acumulada\n",
        "print(res)\n",
        "\n",
        "res = scipy.stats.poisson.cdf(1,2)  # (primeiro arg é a variavel discreta, a segunda a qauntitade de amostras e a terceira a probabilidade) acumulada\n",
        "print(res)"
      ]
    },
    {
      "cell_type": "code",
      "execution_count": 62,
      "metadata": {
        "colab": {
          "base_uri": "https://localhost:8080/"
        },
        "id": "gg-BBsWE_scA",
        "outputId": "c8db21e9-e2a9-4f3b-bcc6-11c269005421"
      },
      "outputs": [
        {
          "name": "stdout",
          "output_type": "stream",
          "text": [
            "0.40327171078200386\n",
            "0.40600584970983794\n"
          ]
        }
      ],
      "source": [
        "# ex 15 não mais que 1 defeituoso seja encontrado b)\n",
        "res = scipy.stats.binom.cdf(1,100,0.02)  # (primeiro arg é a variavel discreta, a segunda a qauntitade de amostras e a terceira a probabilidade) acumulada\n",
        "print(res)\n",
        "\n",
        "res = scipy.stats.poisson.cdf(1,2)  # (primeiro arg é a variavel discreta, a segunda a qauntitade de amostras e a terceira a probabilidade) acumulada\n",
        "print(res)"
      ]
    },
    {
      "cell_type": "code",
      "execution_count": 63,
      "metadata": {
        "colab": {
          "base_uri": "https://localhost:8080/"
        },
        "id": "2CRj0c2V_arZ",
        "outputId": "334fc28f-85d8-430e-8abe-94b1f641a52f"
      },
      "outputs": [
        {
          "data": {
            "text/plain": [
              "0.75"
            ]
          },
          "execution_count": 63,
          "metadata": {},
          "output_type": "execute_result"
        }
      ],
      "source": [
        "# hipergeometrica\n",
        "\n",
        "res =  scipy.stats.hypergeom.mean(52,13,3,loc=0) # tamanho do espaço total, quantos nos interessamos, de quanto será a amostra\n",
        "res"
      ]
    },
    {
      "cell_type": "code",
      "execution_count": 64,
      "metadata": {
        "colab": {
          "base_uri": "https://localhost:8080/"
        },
        "id": "M5HJmAUWGo5m",
        "outputId": "ee4b09ee-49c1-4ca7-c61c-eb369516333e"
      },
      "outputs": [
        {
          "data": {
            "text/plain": [
              "0.5404411764705882"
            ]
          },
          "execution_count": 64,
          "metadata": {},
          "output_type": "execute_result"
        }
      ],
      "source": [
        "res =  scipy.stats.hypergeom.var(52,13,3,loc=0) # tamanho do espaço total, quantos nos interessamos, de quanto será a amostra\n",
        "res"
      ]
    },
    {
      "cell_type": "code",
      "execution_count": 65,
      "metadata": {
        "colab": {
          "base_uri": "https://localhost:8080/"
        },
        "id": "lsRJhJA-HAiV",
        "outputId": "0c9ef48c-f30c-4b74-d894-5ce1039ab95d"
      },
      "outputs": [
        {
          "data": {
            "text/plain": [
              "1.5"
            ]
          },
          "execution_count": 65,
          "metadata": {},
          "output_type": "execute_result"
        }
      ],
      "source": [
        "res =  scipy.stats.hypergeom.mean(52,26,3,loc=0) # tamanho do espaço total, quantos nos interessamos, de quanto será a amostra\n",
        "res"
      ]
    },
    {
      "cell_type": "code",
      "execution_count": 66,
      "metadata": {
        "colab": {
          "base_uri": "https://localhost:8080/"
        },
        "id": "tQMiZyLbIq-G",
        "outputId": "7c5c8de7-190f-43fd-b55a-7a0a9a955111"
      },
      "outputs": [
        {
          "data": {
            "text/plain": [
              "0.7205882352941176"
            ]
          },
          "execution_count": 66,
          "metadata": {},
          "output_type": "execute_result"
        }
      ],
      "source": [
        "res =  scipy.stats.hypergeom.var(52,26,3,loc=0) # tamanho do espaço total, quantos nos interessamos, de quanto será a amostra\n",
        "res"
      ]
    },
    {
      "cell_type": "code",
      "execution_count": 67,
      "metadata": {
        "colab": {
          "base_uri": "https://localhost:8080/"
        },
        "id": "5AB3LADdKgzn",
        "outputId": "ed099f3b-c439-4782-9391-792a917f036c"
      },
      "outputs": [
        {
          "data": {
            "text/plain": [
              "0.005190880056893721"
            ]
          },
          "execution_count": 67,
          "metadata": {},
          "output_type": "execute_result"
        }
      ],
      "source": [
        "# exercicio 6\n",
        "# hypergeom usar nas que tem remoção de algo que não repoe cartas, peças com defeito em uma amostra, bolas em uma urna\n",
        "res = scipy.stats.hypergeom.cdf(3,116,6,18)  # num de escolhas, quantidade total, escolhas favoraveis, numero de amostras pegas\n",
        "res2 = 1 - res\n",
        "res2"
      ]
    },
    {
      "cell_type": "code",
      "execution_count": 68,
      "metadata": {
        "colab": {
          "base_uri": "https://localhost:8080/"
        },
        "id": "L5m2hPOrCt9T",
        "outputId": "adb5ec0b-506e-456c-c836-175ad8ac6cfa"
      },
      "outputs": [
        {
          "data": {
            "text/plain": [
              "0.2074504137802865"
            ]
          },
          "execution_count": 68,
          "metadata": {},
          "output_type": "execute_result"
        }
      ],
      "source": [
        "# hypergeom usar nas que tem remoção de algo que não repoe cartas, peças com defeito em uma amostra, bolas em uma urna\n",
        "res = scipy.stats.hypergeom.pmf(1,200,10,5)  # num de escolhas, quantidade total, escolhas favoraveis, numero de amostras pegas\n",
        "res"
      ]
    },
    {
      "cell_type": "code",
      "execution_count": 69,
      "metadata": {
        "colab": {
          "base_uri": "https://localhost:8080/"
        },
        "id": "lHiRHC2nGoiG",
        "outputId": "c36860cf-1b95-446d-de62-b7d5bde88405"
      },
      "outputs": [
        {
          "data": {
            "text/plain": [
              "0.19473223700771033"
            ]
          },
          "execution_count": 69,
          "metadata": {},
          "output_type": "execute_result"
        }
      ],
      "source": [
        "# hypergeom usar nas que tem remoção de algo que não repoe cartas, peças com defeito em uma amostra, bolas em uma urna\n",
        "res2 = scipy.stats.hypergeom.pmf(1,195,9,5)  # num de escolhas, quantidade total, escolhas favoraveis, numero de amostras pegas\n",
        "res2"
      ]
    },
    {
      "cell_type": "code",
      "execution_count": 70,
      "metadata": {
        "colab": {
          "base_uri": "https://localhost:8080/"
        },
        "id": "j1K1dHc0HDFh",
        "outputId": "7993d3f5-c329-4ab1-8778-97eb28e5fb2c"
      },
      "outputs": [
        {
          "data": {
            "text/plain": [
              "0.04039728314361033"
            ]
          },
          "execution_count": 70,
          "metadata": {},
          "output_type": "execute_result"
        }
      ],
      "source": [
        "res3 = res2*res\n",
        "res3"
      ]
    },
    {
      "cell_type": "code",
      "execution_count": 71,
      "metadata": {
        "colab": {
          "base_uri": "https://localhost:8080/"
        },
        "id": "Nn-B11ijHtgW",
        "outputId": "fdc52327-86b4-40f3-a96b-b39224710272"
      },
      "outputs": [
        {
          "name": "stdout",
          "output_type": "stream",
          "text": [
            "[0.152587890625, 0.3662109375, 0.3295898437500001, 0.13183593749999994, 0.019775390625]\n"
          ]
        }
      ],
      "source": [
        "# num de caras multiplicado pelo num de coroas\n",
        "\n",
        "# binomial \n",
        "\n",
        "# 0 1 2 3 4 caras\n",
        "\n",
        "# 0 3 4 3 0 valores possiveis\n",
        "probs = []\n",
        "for i in range (0,5):\n",
        "  probs.append(scipy.stats.binom.pmf(i,4,0.375))  # (primeiro arg é a variavel discreta, a segunda a qauntitade de amostras e a terceira a probabilidade) acumulada\n",
        "\n",
        "print(probs)\n",
        "\n",
        "# calculando a esperança\n",
        "hope = 0\n",
        "values_poss = [0,3,4,3,0]\n",
        "for i in range (0,5):\n",
        "  hope += values_poss[i]*probs[i]\n",
        "\n",
        "\n",
        "# calcular variancia\n",
        "\n",
        "var = 0\n",
        "values_poss = [0,3,4,3,0]\n",
        "for i in range (0,5):\n",
        "  var += ((values_poss[i] - hope)**2)*probs[i]\n",
        "\n"
      ]
    },
    {
      "cell_type": "code",
      "execution_count": 72,
      "metadata": {
        "colab": {
          "base_uri": "https://localhost:8080/"
        },
        "id": "LgFHVVvULsQe",
        "outputId": "7d027841-64bd-45f7-f6af-d06ec46e80ad"
      },
      "outputs": [
        {
          "data": {
            "text/plain": [
              "[0.17236328125, 0.67041015625, 1.0]"
            ]
          },
          "execution_count": 72,
          "metadata": {},
          "output_type": "execute_result"
        }
      ],
      "source": [
        "# encontrando a mediana\n",
        "probs[1] = probs[1] + probs[3]\n",
        "\n",
        "del probs[3]\n",
        "\n",
        "probs[0] = probs[0] + probs[3]\n",
        "\n",
        "del probs[3]\n",
        "\n",
        "probs[1] += probs[0]\n",
        "\n",
        "probs[2] = probs[1] + probs[2]\n",
        "\n",
        "probs\n",
        "# a mediana é a var disceta que tem a probabilidade acumulada >= 50%"
      ]
    },
    {
      "cell_type": "code",
      "execution_count": 73,
      "metadata": {
        "colab": {
          "base_uri": "https://localhost:8080/"
        },
        "id": "3Fya6JD_NfM5",
        "outputId": "5c93d605-588b-497d-86e8-312ce7db0154"
      },
      "outputs": [
        {
          "name": "stdout",
          "output_type": "stream",
          "text": [
            "0.08045960674953243\n",
            "0.0883124643682868\n"
          ]
        },
        {
          "data": {
            "text/plain": [
              "0.43347702868569604"
            ]
          },
          "execution_count": 73,
          "metadata": {},
          "output_type": "execute_result"
        }
      ],
      "source": [
        "from scipy.stats.distributions import f\n",
        "# exercicio 4\n",
        "\n",
        "ind_A = 0.4*3.5\n",
        "ind_B = 0.4*2.8\n",
        "\n",
        "# sao os valores esperados\n",
        "\n",
        "# nao encontrar nenhuma\n",
        "res = scipy.stats.poisson.pmf(0,ind_A)*scipy.stats.poisson.pmf(0,ind_B)  # (primeiro arg é a variavel discreta, a segunda a qauntitade de amostras e a terceira a probabilidade) acumulada\n",
        "print(res)\n",
        "\n",
        "# X = 2 e Y = 1\n",
        "\n",
        "res = scipy.stats.poisson.pmf(2,ind_A)*scipy.stats.poisson.pmf(1,ind_B)  # (primeiro arg é a variavel discreta, a segunda a qauntitade de amostras e a terceira a probabilidade) acumulada\n",
        "print(res)\n",
        "\n",
        "# probabilidade de x maior que y\n",
        "res = 0\n",
        "for i in range(0,50):\n",
        "  for j in range(0,50):\n",
        "    res += scipy.stats.poisson.pmf(j+i+1,ind_A)*scipy.stats.poisson.pmf(i,ind_B)  # (primeiro arg é a variavel discreta, a segunda a qauntitade de amostras e a terceira a probabilidade) acumulada\n",
        "res"
      ]
    },
    {
      "cell_type": "code",
      "execution_count": null,
      "metadata": {
        "id": "TyVqu-1jPrb2"
      },
      "outputs": [],
      "source": []
    },
    {
      "cell_type": "code",
      "execution_count": 74,
      "metadata": {
        "colab": {
          "base_uri": "https://localhost:8080/"
        },
        "id": "lx3h0NG3PrWn",
        "outputId": "f0ddcbf6-7e4a-4f66-af13-40e69e7000f3"
      },
      "outputs": [
        {
          "name": "stdout",
          "output_type": "stream",
          "text": [
            "[0.000 0.000 0.000 0.001 0.004 0.009 0.020 0.035 0.055 0.077 0.096 0.109\n",
            " 0.113 0.109 0.097 0.081 0.063 0.047 0.032 0.021 0.013 0.008 0.004 0.002\n",
            " 0.001 0.001 0.000 0.000 0.000 0.000 0.000 0.000 0.000 0.000 0.000 0.000\n",
            " 0.000 0.000 0.000 0.000 0.000 0.000 0.000 0.000 0.000 0.000 0.000 0.000\n",
            " 0.000 0.000]\n",
            "13\n",
            "0.11321453006756854\n"
          ]
        }
      ],
      "source": [
        "# ex 3\n",
        "lista = []\n",
        "lista = scipy.stats.poisson.pmf(range(0,50),12.5)\n",
        "np.set_printoptions(formatter={'float': lambda x: \"{0:0.3f}\".format(x)})\n",
        "print(lista)\n",
        "maior = 0\n",
        "indice = 0\n",
        "for i in range (0,50):\n",
        "  if(maior < lista[i]):\n",
        "    maior = lista[i]\n",
        "    indice = i\n",
        "\n",
        "print(indice+1)\n",
        "print(maior)"
      ]
    },
    {
      "cell_type": "code",
      "execution_count": 75,
      "metadata": {
        "colab": {
          "base_uri": "https://localhost:8080/"
        },
        "id": "i42wMvB2cahQ",
        "outputId": "0a004424-4436-42c7-a8ef-3b5732e69593"
      },
      "outputs": [
        {
          "data": {
            "text/plain": [
              "1.4908002540286124e-06"
            ]
          },
          "execution_count": 75,
          "metadata": {},
          "output_type": "execute_result"
        }
      ],
      "source": [
        "# ex 4\n",
        "#a\n",
        "scipy.stats.poisson.pmf(20,(150*3*5)/400)"
      ]
    },
    {
      "cell_type": "code",
      "execution_count": 114,
      "metadata": {},
      "outputs": [
        {
          "data": {
            "text/plain": [
              "3.5"
            ]
          },
          "execution_count": 114,
          "metadata": {},
          "output_type": "execute_result"
        }
      ],
      "source": [
        "(130*5)/400\n",
        "100 * 7 / 200"
      ]
    },
    {
      "cell_type": "code",
      "execution_count": 128,
      "metadata": {
        "colab": {
          "base_uri": "https://localhost:8080/"
        },
        "id": "VHTRi78nc1Ew",
        "outputId": "3cf054aa-a848-41b4-9284-1744d3e414b8"
      },
      "outputs": [
        {
          "name": "stdout",
          "output_type": "stream",
          "text": [
            "0.8578606705840573\n"
          ]
        }
      ],
      "source": [
        "horas = 100\n",
        "txfalhas = 7 / 200\n",
        "res = 0\n",
        "for i in range (1,1000):\n",
        "  res += scipy.stats.poisson.pmf(i, horas * txfalhas)\n",
        "\n",
        "\n",
        "res4 = res*res*res*res*res\n",
        "print(res4)\n"
      ]
    },
    {
      "cell_type": "code",
      "execution_count": 136,
      "metadata": {},
      "outputs": [
        {
          "data": {
            "text/plain": [
              "17.5"
            ]
          },
          "execution_count": 136,
          "metadata": {},
          "output_type": "execute_result"
        }
      ],
      "source": [
        "# c\n",
        "horas = 100\n",
        "tx = 7 / 200\n",
        "componentes = 5\n",
        "\n",
        "tx * componentes * horas"
      ]
    },
    {
      "cell_type": "code",
      "execution_count": 131,
      "metadata": {
        "colab": {
          "base_uri": "https://localhost:8080/"
        },
        "id": "gDqBpainsEgY",
        "outputId": "a28a207e-c550-4749-aaba-59b43d443c89"
      },
      "outputs": [
        {
          "name": "stdout",
          "output_type": "stream",
          "text": [
            "0.7534030360583936\n"
          ]
        },
        {
          "data": {
            "text/plain": [
              "0.7534030360583935"
            ]
          },
          "execution_count": 131,
          "metadata": {},
          "output_type": "execute_result"
        }
      ],
      "source": [
        "#d\n",
        "horas = 40\n",
        "tx = 7 / 200\n",
        "opa = scipy.stats.poisson.cdf(0,horas * tx)\n",
        "print(1 - opa)\n",
        "\n",
        "opa2 = 0\n",
        "for i in range (1,1000):\n",
        "  opa2 += scipy.stats.poisson.pmf(i,horas * tx)\n",
        "\n",
        "opa2"
      ]
    },
    {
      "cell_type": "code",
      "execution_count": 78,
      "metadata": {
        "colab": {
          "base_uri": "https://localhost:8080/"
        },
        "id": "fdnim2bFflOO",
        "outputId": "bf820f6e-0c2c-45e8-8db7-463e3b034e6a"
      },
      "outputs": [
        {
          "data": {
            "text/plain": [
              "0.24705227101440544"
            ]
          },
          "execution_count": 78,
          "metadata": {},
          "output_type": "execute_result"
        }
      ],
      "source": [
        "# ex 3\n",
        "\n",
        "dois = scipy.stats.poisson.pmf(2,40/15)\n",
        "dois"
      ]
    },
    {
      "cell_type": "code",
      "execution_count": 101,
      "metadata": {
        "id": "uTbhnltLglQW"
      },
      "outputs": [
        {
          "name": "stdout",
          "output_type": "stream",
          "text": [
            "[0.000 0.000 0.000 0.000 0.000 0.000 0.000 0.000 0.000 0.000 0.000 0.000\n",
            " 0.000 0.000 0.000 0.000 0.000 0.000 0.000 0.000 0.000 0.000 0.000 0.000\n",
            " 0.000 0.000 0.000 0.000 0.000 0.000 0.000 0.000 0.000 0.000 0.000 0.000\n",
            " 0.000 0.000 0.000 0.000 0.000 0.000 0.000 0.000 0.000 0.000 0.000 0.000\n",
            " 0.000 0.001 0.001 0.002 0.004 0.006 0.010 0.015 0.021 0.028 0.038 0.047\n",
            " 0.058 0.067 0.075 0.081 0.083 0.082 0.077 0.069 0.060 0.049 0.039 0.029\n",
            " 0.021 0.014 0.009 0.006 0.003 0.002 0.001 0.000 0.000 0.000 0.000 0.000\n",
            " 0.000 0.000 0.000 0.000 0.000 0.000 0.000 0.000 0.000 0.000 0.000 0.000\n",
            " 0.000 0.000 0.000 0.000 0.000]\n",
            "hope =  37.999999999999986\n",
            "var =  699.0400000000012\n",
            "var2 =  26.89655086717166\n",
            "0.0828819520027907\n",
            "64\n"
          ]
        }
      ],
      "source": [
        "# ex 2\n",
        "\n",
        "# 90 jogadas de moedas\n",
        "\n",
        "liste = []\n",
        "\n",
        "for i in range (0,91):\n",
        "  liste.append(scipy.stats.binom.pmf(i,90,0.61))  # (primeiro arg é a variavel discreta, a segunda a qauntitade de amostras e a terceira a probabilidade)\n",
        "maior = 0\n",
        "for i in range (0,91):\n",
        "  if(liste[i] > maior):\n",
        "    maior = liste[i]\n",
        "    ind = i\n",
        "  print(f\"{i} -> {liste[i]}\\n\")\n",
        "\n",
        "hope = 0\n",
        "for i in range (0,91):\n",
        "  hope += (i - (90-i))*scipy.stats.binom.pmf(i,90,0.61)\n",
        "\n",
        "print(hope)\n",
        "\n",
        "\n",
        "print(maior)\n",
        "print(ind)"
      ]
    },
    {
      "cell_type": "code",
      "execution_count": 108,
      "metadata": {},
      "outputs": [
        {
          "name": "stdout",
          "output_type": "stream",
          "text": [
            "28.00000000000001\n",
            "var2 =  86.77700992314797\n",
            "0.0828819520027907\n",
            "64\n"
          ]
        }
      ],
      "source": [
        "# ex 2\n",
        "\n",
        "# 100 jogadas de moedas\n",
        "\n",
        "liste = []\n",
        "\n",
        "for i in range (0,101):\n",
        "  liste.append(scipy.stats.binom.pmf(i,100,0.64))  # (primeiro arg é a variavel discreta, a segunda a qauntitade de amostras e a terceira a probabilidade)\n",
        "maior = 0\n",
        "for i in range (0,101):\n",
        "  if(liste[i] > maior):\n",
        "    maior = liste[i]\n",
        "    ind = i\n",
        "  #print(f\"{i} -> {liste[i]}\\n\")\n",
        "\n",
        "hope = 0\n",
        "for i in range (0,101):\n",
        "  hope += (i - (100-i))*scipy.stats.binom.pmf(i,100,0.64)\n",
        "\n",
        "print(hope)\n",
        "\n",
        "# segunda tentativa da hope:\n",
        "for i in range(50):\n",
        "  liste[i] = liste[i] + liste[100 - i]\n",
        "del liste[51:]\n",
        "\n",
        "varbis = 0\n",
        "for i in range(51):\n",
        "  varbis += (i - hope)**2 * liste[i]\n",
        "print('var2 = ', varbis) \n",
        "\n",
        "\n",
        "print(maior)\n",
        "print(ind)"
      ]
    },
    {
      "cell_type": "code",
      "execution_count": null,
      "metadata": {},
      "outputs": [],
      "source": [
        "# ex 2\n",
        "\n",
        "# 100 jogadas de moedas\n",
        "\n",
        "liste = []\n",
        "\n",
        "for i in range (0,101):\n",
        "  liste.append(scipy.stats.binom.pmf(i,100,0.64))  # (primeiro arg é a variavel discreta, a segunda a qauntitade de amostras e a terceira a probabilidade)\n",
        "maior = 0\n",
        "for i in range (0,101):\n",
        "  if(liste[i] > maior):\n",
        "    maior = liste[i]\n",
        "    ind = i\n",
        "  #print(f\"{i} -> {liste[i]}\\n\")\n",
        "print(np.array(liste))\n",
        "\n",
        "hope = 0\n",
        "for i in range (0,101):\n",
        "  hope += (i - (90-i))*scipy.stats.binom.pmf(i,100,0.64)\n",
        "\n",
        "print('hope = ', hope)\n",
        "\n",
        "varbis = 0\n",
        "for i in range(101):\n",
        "  varbis += (i-hope)**2*liste[i]\n",
        "print('var = ', varbis)\n",
        "\n",
        "# segunda tentativa da hope:\n",
        "for i in range(50):\n",
        "  liste[i] = liste[i] + liste[100 - i]\n",
        "del liste[51:]\n",
        "\n",
        "varbis = 0\n",
        "for i in range(51):\n",
        "  varbis += (i - hope)**2 * liste[i]\n",
        "print('var2 = ', varbis) \n",
        "\n",
        "\n",
        "print(maior)\n",
        "print(ind)"
      ]
    },
    {
      "cell_type": "code",
      "execution_count": 80,
      "metadata": {
        "colab": {
          "base_uri": "https://localhost:8080/"
        },
        "id": "TJhHB6ZYlikj",
        "outputId": "09ae0cec-5f4f-4816-db11-0a59e33aacd3"
      },
      "outputs": [
        {
          "name": "stdout",
          "output_type": "stream",
          "text": [
            "19.8\n",
            "85.64400000000002\n"
          ]
        }
      ],
      "source": [
        "# var\n",
        "hope = 0\n",
        "for i in range (0,91):\n",
        "  hope += (i - (90-i))*scipy.stats.binom.pmf(i,90,0.61)\n",
        "\n",
        "var = 0\n",
        "print(hope)\n",
        "for i in range (0,91):\n",
        "  var += ((i - (90-i) - hope)**2)*scipy.stats.binom.pmf(i,90,0.61)\n",
        "  #print(var)\n",
        "\n",
        "\n",
        "print(var)"
      ]
    },
    {
      "cell_type": "code",
      "execution_count": 81,
      "metadata": {
        "colab": {
          "base_uri": "https://localhost:8080/"
        },
        "id": "u-_TsbwDn7Ay",
        "outputId": "fee24cf9-1e3a-40a5-87ae-0a6ea599b5ba"
      },
      "outputs": [
        {
          "name": "stdout",
          "output_type": "stream",
          "text": [
            "0.6129402150298704\n"
          ]
        },
        {
          "data": {
            "text/plain": [
              "0.61294021502987"
            ]
          },
          "execution_count": 81,
          "metadata": {},
          "output_type": "execute_result"
        }
      ],
      "source": [
        "# ex 1\n",
        "\n",
        "respo = scipy.stats.binom.cdf(4,19,0.27)\n",
        "print(1 - respo)\n",
        "\n",
        "cabo = 0\n",
        "for i in range(5,100):\n",
        "  cabo += scipy.stats.binom.pmf(i,19,0.27)\n",
        "\n",
        "\n",
        "cabo"
      ]
    },
    {
      "cell_type": "code",
      "execution_count": 82,
      "metadata": {
        "colab": {
          "base_uri": "https://localhost:8080/"
        },
        "id": "sYQ4aNmupYRx",
        "outputId": "515ef182-9492-4837-a1f5-c3398d7844c7"
      },
      "outputs": [
        {
          "data": {
            "text/plain": [
              "5.130000000000001"
            ]
          },
          "execution_count": 82,
          "metadata": {},
          "output_type": "execute_result"
        }
      ],
      "source": [
        "esperanca = scipy.stats.binom.mean(19,0.27)\n",
        "esperanca"
      ]
    }
  ],
  "metadata": {
    "colab": {
      "provenance": []
    },
    "kernelspec": {
      "display_name": "Python 3.11.0 64-bit",
      "language": "python",
      "name": "python3"
    },
    "language_info": {
      "codemirror_mode": {
        "name": "ipython",
        "version": 3
      },
      "file_extension": ".py",
      "mimetype": "text/x-python",
      "name": "python",
      "nbconvert_exporter": "python",
      "pygments_lexer": "ipython3",
      "version": "3.11.0"
    },
    "vscode": {
      "interpreter": {
        "hash": "5c7b89af1651d0b8571dde13640ecdccf7d5a6204171d6ab33e7c296e100e08a"
      }
    }
  },
  "nbformat": 4,
  "nbformat_minor": 0
}
