{
 "cells": [
  {
   "cell_type": "code",
   "execution_count": 2,
   "metadata": {},
   "outputs": [],
   "source": [
    "import scipy.stats\n",
    "import numpy as np"
   ]
  },
  {
   "cell_type": "markdown",
   "metadata": {},
   "source": [
    "# Distribuiçao de Bernoulli\n",
    "\n",
    "- Binário, sucesso ou fracasso; <br>\n",
    "Exemplos: <br>\n",
    "- Chutar uma questao na prova: acertar ou errar <br>\n",
    "- Peça com ou sem defeito <br>"
   ]
  },
  {
   "cell_type": "markdown",
   "metadata": {},
   "source": [
    "k = 0 ou 1, sucesso ou fracasso <br>\n",
    "p = probabilidade de sucesso <br> <br>\n",
    "scipy.stats.bernoulli.pmf(k, p, loc=0)"
   ]
  },
  {
   "cell_type": "markdown",
   "metadata": {},
   "source": [
    "Questão: Qual a probabilidade de acertar uma questão no chute dentre 5 alternativas?"
   ]
  },
  {
   "cell_type": "code",
   "execution_count": 3,
   "metadata": {},
   "outputs": [
    {
     "data": {
      "text/plain": [
       "0.2"
      ]
     },
     "execution_count": 3,
     "metadata": {},
     "output_type": "execute_result"
    }
   ],
   "source": [
    "scipy.stats.bernoulli.pmf(1, 1/5)"
   ]
  },
  {
   "cell_type": "markdown",
   "metadata": {},
   "source": [
    "# Distribuiçao Binomial\n",
    "- Experimento de Bernoulli repetidas vezes <br>\n",
    "Exemplos:\n",
    "- Chutar $\\textbf{mais}$ de uma questão na prova <br>\n",
    "- Questões desse tópico geralmente possuem reposição"
   ]
  },
  {
   "cell_type": "markdown",
   "metadata": {},
   "source": [
    "k = numero de sucessos que queremos <br>\n",
    "n = numero de repeticoes <br>\n",
    "p = probabilidade de sucesso <br> <br>\n",
    "\n",
    "scipy.stats.binom.pmf(k, n, p, loc=0)"
   ]
  },
  {
   "cell_type": "markdown",
   "metadata": {},
   "source": [
    "Questão: Qual a probabilidade de acertar 3 questões no chute dentre 4 questões totais?"
   ]
  },
  {
   "cell_type": "code",
   "execution_count": 4,
   "metadata": {},
   "outputs": [
    {
     "data": {
      "text/plain": [
       "0.02559999999999999"
      ]
     },
     "execution_count": 4,
     "metadata": {},
     "output_type": "execute_result"
    }
   ],
   "source": [
    "scipy.stats.binom.pmf(3, 4, 1/5)"
   ]
  },
  {
   "cell_type": "markdown",
   "metadata": {},
   "source": [
    "Questão: Qual a probabilidade de acertar pelo menos 3 questoes?"
   ]
  },
  {
   "cell_type": "code",
   "execution_count": 5,
   "metadata": {},
   "outputs": [
    {
     "data": {
      "text/plain": [
       "0.02719999999999999"
      ]
     },
     "execution_count": 5,
     "metadata": {},
     "output_type": "execute_result"
    }
   ],
   "source": [
    "# Ja que existem apenas 4 questoes, entao pelo menos 3 questoes = 3 ou 4 questoes\n",
    "# P(x >= 3) = P(x = 3) + P(x = 4)\n",
    "scipy.stats.binom.pmf(3, 4, 1/5) + scipy.stats.binom.pmf(4, 4, 1/5)"
   ]
  },
  {
   "cell_type": "markdown",
   "metadata": {},
   "source": [
    "# Distribuição Geométrica\n",
    "- Deseja-se um sucesso apenas na k-ésima tentativa <br>"
   ]
  },
  {
   "cell_type": "markdown",
   "metadata": {},
   "source": [
    "k = o número de tentativas até acertar a correta\n",
    "p = a probabilidade de cada tentativa\n",
    "\n",
    "scipy.stats.geom.pmf(k, p)"
   ]
  },
  {
   "cell_type": "markdown",
   "metadata": {},
   "source": [
    "# Distribuição Hipergeométrica\n"
   ]
  },
  {
   "cell_type": "markdown",
   "metadata": {},
   "source": [
    "- Parece uma distribuição binomial, só que sem reposição <br>\n",
    "- Problemas de combinação <br> <br>"
   ]
  },
  {
   "cell_type": "markdown",
   "metadata": {},
   "source": [
    "k = numero de sucessos <br>\n",
    "M = numero total de objetos <br>\n",
    "n = itens classificados como sucesso <br>\n",
    "N = numero de peças retiradas ou extraidas <br> <br>\n",
    "\n",
    "scipy.stats.hypergeom.pmf(k, M, n, N)"
   ]
  },
  {
   "cell_type": "code",
   "execution_count": 8,
   "metadata": {},
   "outputs": [
    {
     "data": {
      "text/plain": [
       "0.3333333333333333"
      ]
     },
     "execution_count": 8,
     "metadata": {},
     "output_type": "execute_result"
    }
   ],
   "source": [
    "k = 2\n",
    "M = 10\n",
    "n = 6\n",
    "N = 2\n",
    "\n",
    "duasamarelas = scipy.stats.hypergeom.pmf(k, M, n, N)\n",
    "duasamarelas"
   ]
  },
  {
   "cell_type": "code",
   "execution_count": 9,
   "metadata": {},
   "outputs": [
    {
     "data": {
      "text/plain": [
       "0.13333333333333333"
      ]
     },
     "execution_count": 9,
     "metadata": {},
     "output_type": "execute_result"
    }
   ],
   "source": [
    "k = 2\n",
    "M = 10\n",
    "n = 4\n",
    "N = 2\n",
    "duasverdes = scipy.stats.hypergeom.pmf(k, M, n, N)\n",
    "duasverdes"
   ]
  },
  {
   "cell_type": "code",
   "execution_count": 14,
   "metadata": {},
   "outputs": [
    {
     "name": "stdout",
     "output_type": "stream",
     "text": [
      "Probabilidade de cores diferentes =  0.5333333333333333\n",
      "probabilidade de cores iguais =  0.4666666666666667\n"
     ]
    }
   ],
   "source": [
    "''' \n",
    "X = -1.28 -> bolas de cores diferentes\n",
    "X = 1.69 -> bolas de cores iguais\n",
    "'''\n",
    "probdif = 1 - (duasamarelas + duasverdes)\n",
    "probigual = duasamarelas + duasverdes\n",
    "print('Probabilidade de cores diferentes = ', probdif)\n",
    "print('probabilidade de cores iguais = ', probigual)"
   ]
  },
  {
   "cell_type": "code",
   "execution_count": 15,
   "metadata": {},
   "outputs": [
    {
     "data": {
      "text/plain": [
       "0.10599999999999998"
      ]
     },
     "execution_count": 15,
     "metadata": {},
     "output_type": "execute_result"
    }
   ],
   "source": [
    "hope = -1.28 * probdif + 1.69 * probigual\n",
    "hope"
   ]
  },
  {
   "cell_type": "code",
   "execution_count": 17,
   "metadata": {},
   "outputs": [
    {
     "data": {
      "text/plain": [
       "2.195424"
      ]
     },
     "execution_count": 17,
     "metadata": {},
     "output_type": "execute_result"
    }
   ],
   "source": [
    "var = ((-1.28)**2 * probdif + (1.69)**2 * probigual) - hope ** 2\n",
    "var"
   ]
  },
  {
   "cell_type": "markdown",
   "metadata": {},
   "source": [
    "# Distribuição de Poisson"
   ]
  },
  {
   "cell_type": "markdown",
   "metadata": {},
   "source": [
    "Eventos que ocorrem por uma certa unidade. Ex: Eventos/minutos <br>\n",
    "\n",
    "Esperança de poisson é a quantidade de eventos que ocorrem em um certo intervalo de tempo (Obs: não é a taxa de eventos/tempo, mas sim a quantidade de eventos). <br>\n",
    "\n",
    "λ é um número real, igual ao número esperado de ocorrências que ocorrem num dado intervalo de tempo. Por exemplo, se o evento ocorre a uma média de 4 minutos (taxa = 1/4 eventos/min), e estamos interessados no número de eventos que ocorrem num intervalo de 10 minutos, usaríamos como modelo a distribuição de Poisson com λ = (1/4) * 10 min = 2.5 eventos"
   ]
  },
  {
   "cell_type": "markdown",
   "metadata": {},
   "source": [
    "k = quantas ocorrencias do evento <br>\n",
    "mu = λ = E(X) = valor esperado de eventos em um certo intervalo de tempo <br> <br>\n",
    "scipy.stats.poisson.pmf(k, mu)"
   ]
  }
 ],
 "metadata": {
  "kernelspec": {
   "display_name": "Python 3.11.0 64-bit",
   "language": "python",
   "name": "python3"
  },
  "language_info": {
   "codemirror_mode": {
    "name": "ipython",
    "version": 3
   },
   "file_extension": ".py",
   "mimetype": "text/x-python",
   "name": "python",
   "nbconvert_exporter": "python",
   "pygments_lexer": "ipython3",
   "version": "3.11.0"
  },
  "orig_nbformat": 4,
  "vscode": {
   "interpreter": {
    "hash": "5c7b89af1651d0b8571dde13640ecdccf7d5a6204171d6ab33e7c296e100e08a"
   }
  }
 },
 "nbformat": 4,
 "nbformat_minor": 2
}
