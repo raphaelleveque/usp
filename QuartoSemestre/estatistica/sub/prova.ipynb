{
 "cells": [
  {
   "cell_type": "code",
   "execution_count": 14,
   "metadata": {},
   "outputs": [],
   "source": [
    "import scipy.stats\n",
    "import numpy as np\n",
    "import statistics"
   ]
  },
  {
   "cell_type": "markdown",
   "metadata": {},
   "source": [
    "# Questão 1"
   ]
  },
  {
   "cell_type": "code",
   "execution_count": null,
   "metadata": {},
   "outputs": [],
   "source": []
  },
  {
   "cell_type": "markdown",
   "metadata": {},
   "source": [
    "# Questao 2:"
   ]
  },
  {
   "cell_type": "code",
   "execution_count": 33,
   "metadata": {},
   "outputs": [
    {
     "name": "stdout",
     "output_type": "stream",
     "text": [
      "[0, 3, 4]\n"
     ]
    },
    {
     "ename": "IndexError",
     "evalue": "list index out of range",
     "output_type": "error",
     "traceback": [
      "\u001b[0;31m---------------------------------------------------------------------------\u001b[0m",
      "\u001b[0;31mIndexError\u001b[0m                                Traceback (most recent call last)",
      "Cell \u001b[0;32mIn [33], line 26\u001b[0m\n\u001b[1;32m     23\u001b[0m \u001b[39mprint\u001b[39m(values_poss)\n\u001b[1;32m     25\u001b[0m \u001b[39mfor\u001b[39;00m i \u001b[39min\u001b[39;00m \u001b[39mrange\u001b[39m (\u001b[39m0\u001b[39m,\u001b[39m51\u001b[39m):\n\u001b[0;32m---> 26\u001b[0m   hope \u001b[39m+\u001b[39m\u001b[39m=\u001b[39m values_poss[i]\u001b[39m*\u001b[39mprobs[i]\n\u001b[1;32m     27\u001b[0m \u001b[39mprint\u001b[39m(\u001b[39m'\u001b[39m\u001b[39mhope = \u001b[39m\u001b[39m'\u001b[39m, hope)\n\u001b[1;32m     30\u001b[0m \u001b[39m# calcular variancia\u001b[39;00m\n",
      "\u001b[0;31mIndexError\u001b[0m: list index out of range"
     ]
    }
   ],
   "source": [
    "# num de caras multiplicado pelo num de coroas\n",
    "\n",
    "# binomial \n",
    "\n",
    "# 0 1 2 3 4 caras ou 100 caras\n",
    "\n",
    "# 0 3 4 3 0 valores possiveis\n",
    "probs = np.array(np.zeros(51))\n",
    "for i in range (0,51):\n",
    "  probs[i] = (scipy.stats.binom.pmf(i,100,0.64) + scipy.stats.binom.pmf(i + 50, 100, 0.64))  # (primeiro arg é a variavel discreta, a segunda a qauntitade de amostras e a terceira a probabilidade) acumulada\n",
    "\n",
    "#print(probs)\n",
    "\n",
    "# calculando a esperança\n",
    "hope = 0\n",
    "''' \n",
    "0C 100K = \n",
    "1C \n",
    "'''\n",
    "values_poss:list\n",
    "for i, j in zip(range(0,51), range(51, 0)):\n",
    "  values_poss.append(i*j)\n",
    "print(values_poss)\n",
    "\n",
    "for i in range (0,51):\n",
    "  hope += values_poss[i]*probs[i]\n",
    "print('hope = ', hope)\n",
    "\n",
    "\n",
    "# calcular variancia\n",
    "\n",
    "var = 0\n",
    "values_poss = [0,3,4,3,0]\n",
    "for i in range (0,5):\n",
    "  var += ((values_poss[i] - hope)**2)*probs[i]\n",
    "print('var = ', var)\n",
    "\n",
    "\n",
    "# encontrando a mediana\n",
    "# Construindo uma distribuicao de probabilidade acumulada, ou seja:\n",
    "''' \n",
    "0C 4K = 0\n",
    "1C 3K = 3\n",
    "2C 2K = 4\n",
    "3C 1K = 3\n",
    "4C 0K = 0\n",
    "\n",
    "w = 0 -> probs[0] + probs[4]\n",
    "w = 3 -> probs[1] + probs[3]\n",
    "w = 4 -> probs[2]\n",
    "'''\n",
    "# Queremos construir uma funcao de distribuicao acumulada, para saber em qual w_i a probabilidade passa de 50%\n",
    "values_poss = [0, 3, 4]\n",
    "probs[0] = probs[0] + probs[4]\n",
    "probs[1] = probs[0] + probs[1] + probs[3]\n",
    "probs[2] = probs[1] + probs[2]\n",
    "del probs[3:]\n",
    "'''\n",
    "w = 0 -> p = 0.1\n",
    "w = 3 -> p = 0.4\n",
    "w = 4 -> p = 1\n",
    "'''\n",
    "\n",
    "# Aqui eu encontro qual a mediana do meu vetor de probabilidade, e encontro qual índice dessa mediana\n",
    "median_index = (probs.index(statistics.median(probs)))\n",
    "# Agora, pegaremos esse índice e printaremos a mediana, usando a lista values_poss\n",
    "print('median = ', values_poss[median_index])\n",
    "# a mediana é a var disceta que tem a probabilidade acumulada >= 50%"
   ]
  },
  {
   "cell_type": "code",
   "execution_count": 16,
   "metadata": {
    "colab": {
     "base_uri": "https://localhost:8080/"
    },
    "id": "cyJCsrvg86A-",
    "outputId": "70815378-6d17-4e41-c07c-74720dde0154"
   },
   "outputs": [
    {
     "name": "stdout",
     "output_type": "stream",
     "text": [
      "[0.01679616 0.11943936 0.31850496 0.37748736 0.16777216 0.\n",
      " 0.         0.         0.         0.         0.         0.\n",
      " 0.         0.         0.         0.         0.         0.\n",
      " 0.         0.         0.         0.         0.         0.\n",
      " 0.         0.         0.         0.         0.         0.\n",
      " 0.         0.         0.         0.         0.         0.\n",
      " 0.         0.         0.         0.         0.         0.\n",
      " 0.         0.         0.         0.         0.         0.\n",
      " 0.         0.         0.         0.         0.         0.\n",
      " 0.         0.         0.         0.         0.         0.\n",
      " 0.         0.         0.         0.         0.         0.\n",
      " 0.         0.         0.         0.         0.         0.\n",
      " 0.         0.         0.         0.         0.         0.\n",
      " 0.         0.         0.         0.         0.         0.\n",
      " 0.         0.         0.         0.         0.         0.\n",
      " 0.         0.         0.         0.         0.         0.\n",
      " 0.         0.         0.         0.         0.        ]\n"
     ]
    }
   ],
   "source": [
    "# range(0,101) significa100 possiveis caras\n",
    "# ou seja, em 4 lancamentos, podemos ter de 0 a 4 caras\n",
    "print(scipy.stats.binom.pmf(range(0,101),4,0.64))"
   ]
  },
  {
   "cell_type": "code",
   "execution_count": 17,
   "metadata": {
    "id": "zPcQu7PB9lDf"
   },
   "outputs": [],
   "source": [
    "# Px entao é a distribuicao do numero dec caras\n",
    "Px = scipy.stats.binom.pmf(range(0,101),4,0.64)"
   ]
  },
  {
   "cell_type": "code",
   "execution_count": 18,
   "metadata": {
    "colab": {
     "base_uri": "https://localhost:8080/"
    },
    "id": "byVM0YTc9m9-",
    "outputId": "31ae297b-bd22-441d-f341-514e873b0d0c"
   },
   "outputs": [
    {
     "name": "stdout",
     "output_type": "stream",
     "text": [
      "[0.17236328125, 0.49804687499999994, 0.3295898437500001]\n"
     ]
    }
   ],
   "source": [
    "# W é a multiplicacao de Caras e coroas\n",
    "'''\n",
    "0C 4K = 0\n",
    "1C 3K = 3\n",
    "2C 2K = 4\n",
    "3C 1K = 3\n",
    "4C 0K = 0\n",
    "\n",
    "Px[i] = i caras\n",
    "'''\n",
    "# Sendo assim, montando a distribuiçao de probabilidades de W, usando as probabilidades de Px\n",
    "# temos apenas 3 casos, já que w pode ser ou 0, ou 3 ou 4\n",
    "Pw = [Px[0] + Px[4],Px[1] + Px[3],Px[2]]\n",
    "print(Pw)"
   ]
  },
  {
   "cell_type": "markdown",
   "metadata": {
    "id": "dm89ysivZ_6p"
   },
   "source": [
    "Calculando $E[W]$: <br>\n",
    "Obs: $E[W] = \\Sigma_{i = 1}^{n} w_i \\cdot p_i$"
   ]
  },
  {
   "cell_type": "code",
   "execution_count": 19,
   "metadata": {
    "colab": {
     "base_uri": "https://localhost:8080/"
    },
    "id": "ra56UhHY-ez3",
    "outputId": "7b1182f0-4227-4795-d9f6-359a1edd2dec"
   },
   "outputs": [
    {
     "name": "stdout",
     "output_type": "stream",
     "text": [
      "2.8125\n"
     ]
    }
   ],
   "source": [
    "'''\n",
    "Esperança de W pega os valores de w_i * p_i\n",
    "\n",
    "w = 0 -> p = Pw[0]\n",
    "w = 3 -> p = Pw[1]\n",
    "w = 4 -> p = Pw[2]\n",
    "'''\n",
    "ew = 0*Pw[0] + 3*Pw[1] + 4*Pw[2]\n",
    "print(ew)"
   ]
  },
  {
   "cell_type": "markdown",
   "metadata": {
    "id": "oGR_ugFBaEbQ"
   },
   "source": [
    "Calculando $Var[W]$ usando $E[W^2] - (E[W])^2$:"
   ]
  },
  {
   "cell_type": "code",
   "execution_count": 20,
   "metadata": {
    "id": "ETar1bzc-wUG"
   },
   "outputs": [],
   "source": [
    "# No E[W^2], a probabilidade permanece a mesma, o que muda é apenas o w_i, que vira w_i**2\n",
    "ew2 = 0*Pw[0] + 9*Pw[1] + 16*Pw[2]"
   ]
  },
  {
   "cell_type": "code",
   "execution_count": 21,
   "metadata": {
    "colab": {
     "base_uri": "https://localhost:8080/"
    },
    "id": "21u5yPjF-3uG",
    "outputId": "faf6a41c-70ac-4927-ebbc-b2305b31c8c3"
   },
   "outputs": [
    {
     "name": "stdout",
     "output_type": "stream",
     "text": [
      "1.845703125\n"
     ]
    }
   ],
   "source": [
    "varw = ew2 - ew**2\n",
    "print(varw)"
   ]
  },
  {
   "cell_type": "markdown",
   "metadata": {},
   "source": [
    "# Questão 3:"
   ]
  },
  {
   "cell_type": "code",
   "execution_count": 23,
   "metadata": {},
   "outputs": [
    {
     "data": {
      "text/plain": [
       "18.0"
      ]
     },
     "execution_count": 23,
     "metadata": {},
     "output_type": "execute_result"
    }
   ],
   "source": [
    "# delta t = 10min\n",
    "# 107 carros/60min -> 17.8333 carros em 10min\n",
    "scipy.stats.poisson.pmf(18, 17.8333)\n",
    "scipy.stats.poisson.ppf(0.5,17.8333)"
   ]
  },
  {
   "cell_type": "markdown",
   "metadata": {},
   "source": [
    "# Questao 4"
   ]
  },
  {
   "cell_type": "code",
   "execution_count": null,
   "metadata": {},
   "outputs": [],
   "source": [
    "# para um componente: 7 falhas a cada 200 horas = 7/200 falhas/hora, ou 0.033333\n",
    "# para cinco componentes: 5 * 7/200 falhas/hora\n",
    "# para X horas: X * 5 * 7/200 falhas = Y falhas em X horas para 5 componentes\n"
   ]
  },
  {
   "cell_type": "code",
   "execution_count": 25,
   "metadata": {},
   "outputs": [
    {
     "data": {
      "text/plain": [
       "0.05714552984476587"
      ]
     },
     "execution_count": 25,
     "metadata": {},
     "output_type": "execute_result"
    }
   ],
   "source": [
    "#A) 140h\n",
    "# para 140 horas: 140 * 5 * 7/200 falhas = 24.5 falhas em 140 horas para 5 componentes\n",
    "scipy.stats.poisson.pmf(20, (140 * 5 * 7) / 200)\n"
   ]
  }
 ],
 "metadata": {
  "kernelspec": {
   "display_name": "Python 3.11.0 64-bit",
   "language": "python",
   "name": "python3"
  },
  "language_info": {
   "codemirror_mode": {
    "name": "ipython",
    "version": 3
   },
   "file_extension": ".py",
   "mimetype": "text/x-python",
   "name": "python",
   "nbconvert_exporter": "python",
   "pygments_lexer": "ipython3",
   "version": "3.11.0"
  },
  "orig_nbformat": 4,
  "vscode": {
   "interpreter": {
    "hash": "5c7b89af1651d0b8571dde13640ecdccf7d5a6204171d6ab33e7c296e100e08a"
   }
  }
 },
 "nbformat": 4,
 "nbformat_minor": 2
}
